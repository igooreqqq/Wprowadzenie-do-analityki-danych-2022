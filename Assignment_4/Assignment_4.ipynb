{
  "cells": [
    {
      "cell_type": "markdown",
      "metadata": {
        "id": "gIryE0ynUu1N"
      },
      "source": [
        "### Today we are going to perform the simple classification of the amazon reviews' sentiment.\n",
        "\n",
        "### Please, download the dataset amazon_baby.csv."
      ]
    },
    {
      "cell_type": "code",
      "execution_count": 2,
      "metadata": {
        "colab": {
          "base_uri": "https://localhost:8080/",
          "height": 206
        },
        "id": "TmDBztE4Uu1Q",
        "outputId": "881a8a4f-5c32-489b-96bf-71fadf22e34b"
      },
      "outputs": [
        {
          "output_type": "execute_result",
          "data": {
            "text/plain": [
              "                                                name  \\\n",
              "0                           Planetwise Flannel Wipes   \n",
              "1                              Planetwise Wipe Pouch   \n",
              "2                Annas Dream Full Quilt with 2 Shams   \n",
              "3  Stop Pacifier Sucking without tears with Thumb...   \n",
              "4  Stop Pacifier Sucking without tears with Thumb...   \n",
              "\n",
              "                                              review  rating  \n",
              "0  These flannel wipes are OK, but in my opinion ...       3  \n",
              "1  it came early and was not disappointed. i love...       5  \n",
              "2  Very soft and comfortable and warmer than it l...       5  \n",
              "3  This is a product well worth the purchase.  I ...       5  \n",
              "4  All of my kids have cried non-stop when I trie...       5  "
            ],
            "text/html": [
              "\n",
              "  <div id=\"df-27334449-e6d5-414c-81f1-fff93dfb6443\">\n",
              "    <div class=\"colab-df-container\">\n",
              "      <div>\n",
              "<style scoped>\n",
              "    .dataframe tbody tr th:only-of-type {\n",
              "        vertical-align: middle;\n",
              "    }\n",
              "\n",
              "    .dataframe tbody tr th {\n",
              "        vertical-align: top;\n",
              "    }\n",
              "\n",
              "    .dataframe thead th {\n",
              "        text-align: right;\n",
              "    }\n",
              "</style>\n",
              "<table border=\"1\" class=\"dataframe\">\n",
              "  <thead>\n",
              "    <tr style=\"text-align: right;\">\n",
              "      <th></th>\n",
              "      <th>name</th>\n",
              "      <th>review</th>\n",
              "      <th>rating</th>\n",
              "    </tr>\n",
              "  </thead>\n",
              "  <tbody>\n",
              "    <tr>\n",
              "      <th>0</th>\n",
              "      <td>Planetwise Flannel Wipes</td>\n",
              "      <td>These flannel wipes are OK, but in my opinion ...</td>\n",
              "      <td>3</td>\n",
              "    </tr>\n",
              "    <tr>\n",
              "      <th>1</th>\n",
              "      <td>Planetwise Wipe Pouch</td>\n",
              "      <td>it came early and was not disappointed. i love...</td>\n",
              "      <td>5</td>\n",
              "    </tr>\n",
              "    <tr>\n",
              "      <th>2</th>\n",
              "      <td>Annas Dream Full Quilt with 2 Shams</td>\n",
              "      <td>Very soft and comfortable and warmer than it l...</td>\n",
              "      <td>5</td>\n",
              "    </tr>\n",
              "    <tr>\n",
              "      <th>3</th>\n",
              "      <td>Stop Pacifier Sucking without tears with Thumb...</td>\n",
              "      <td>This is a product well worth the purchase.  I ...</td>\n",
              "      <td>5</td>\n",
              "    </tr>\n",
              "    <tr>\n",
              "      <th>4</th>\n",
              "      <td>Stop Pacifier Sucking without tears with Thumb...</td>\n",
              "      <td>All of my kids have cried non-stop when I trie...</td>\n",
              "      <td>5</td>\n",
              "    </tr>\n",
              "  </tbody>\n",
              "</table>\n",
              "</div>\n",
              "      <button class=\"colab-df-convert\" onclick=\"convertToInteractive('df-27334449-e6d5-414c-81f1-fff93dfb6443')\"\n",
              "              title=\"Convert this dataframe to an interactive table.\"\n",
              "              style=\"display:none;\">\n",
              "        \n",
              "  <svg xmlns=\"http://www.w3.org/2000/svg\" height=\"24px\"viewBox=\"0 0 24 24\"\n",
              "       width=\"24px\">\n",
              "    <path d=\"M0 0h24v24H0V0z\" fill=\"none\"/>\n",
              "    <path d=\"M18.56 5.44l.94 2.06.94-2.06 2.06-.94-2.06-.94-.94-2.06-.94 2.06-2.06.94zm-11 1L8.5 8.5l.94-2.06 2.06-.94-2.06-.94L8.5 2.5l-.94 2.06-2.06.94zm10 10l.94 2.06.94-2.06 2.06-.94-2.06-.94-.94-2.06-.94 2.06-2.06.94z\"/><path d=\"M17.41 7.96l-1.37-1.37c-.4-.4-.92-.59-1.43-.59-.52 0-1.04.2-1.43.59L10.3 9.45l-7.72 7.72c-.78.78-.78 2.05 0 2.83L4 21.41c.39.39.9.59 1.41.59.51 0 1.02-.2 1.41-.59l7.78-7.78 2.81-2.81c.8-.78.8-2.07 0-2.86zM5.41 20L4 18.59l7.72-7.72 1.47 1.35L5.41 20z\"/>\n",
              "  </svg>\n",
              "      </button>\n",
              "      \n",
              "  <style>\n",
              "    .colab-df-container {\n",
              "      display:flex;\n",
              "      flex-wrap:wrap;\n",
              "      gap: 12px;\n",
              "    }\n",
              "\n",
              "    .colab-df-convert {\n",
              "      background-color: #E8F0FE;\n",
              "      border: none;\n",
              "      border-radius: 50%;\n",
              "      cursor: pointer;\n",
              "      display: none;\n",
              "      fill: #1967D2;\n",
              "      height: 32px;\n",
              "      padding: 0 0 0 0;\n",
              "      width: 32px;\n",
              "    }\n",
              "\n",
              "    .colab-df-convert:hover {\n",
              "      background-color: #E2EBFA;\n",
              "      box-shadow: 0px 1px 2px rgba(60, 64, 67, 0.3), 0px 1px 3px 1px rgba(60, 64, 67, 0.15);\n",
              "      fill: #174EA6;\n",
              "    }\n",
              "\n",
              "    [theme=dark] .colab-df-convert {\n",
              "      background-color: #3B4455;\n",
              "      fill: #D2E3FC;\n",
              "    }\n",
              "\n",
              "    [theme=dark] .colab-df-convert:hover {\n",
              "      background-color: #434B5C;\n",
              "      box-shadow: 0px 1px 3px 1px rgba(0, 0, 0, 0.15);\n",
              "      filter: drop-shadow(0px 1px 2px rgba(0, 0, 0, 0.3));\n",
              "      fill: #FFFFFF;\n",
              "    }\n",
              "  </style>\n",
              "\n",
              "      <script>\n",
              "        const buttonEl =\n",
              "          document.querySelector('#df-27334449-e6d5-414c-81f1-fff93dfb6443 button.colab-df-convert');\n",
              "        buttonEl.style.display =\n",
              "          google.colab.kernel.accessAllowed ? 'block' : 'none';\n",
              "\n",
              "        async function convertToInteractive(key) {\n",
              "          const element = document.querySelector('#df-27334449-e6d5-414c-81f1-fff93dfb6443');\n",
              "          const dataTable =\n",
              "            await google.colab.kernel.invokeFunction('convertToInteractive',\n",
              "                                                     [key], {});\n",
              "          if (!dataTable) return;\n",
              "\n",
              "          const docLinkHtml = 'Like what you see? Visit the ' +\n",
              "            '<a target=\"_blank\" href=https://colab.research.google.com/notebooks/data_table.ipynb>data table notebook</a>'\n",
              "            + ' to learn more about interactive tables.';\n",
              "          element.innerHTML = '';\n",
              "          dataTable['output_type'] = 'display_data';\n",
              "          await google.colab.output.renderOutput(dataTable, element);\n",
              "          const docLink = document.createElement('div');\n",
              "          docLink.innerHTML = docLinkHtml;\n",
              "          element.appendChild(docLink);\n",
              "        }\n",
              "      </script>\n",
              "    </div>\n",
              "  </div>\n",
              "  "
            ]
          },
          "metadata": {},
          "execution_count": 2
        }
      ],
      "source": [
        "import pandas as pd\n",
        "import numpy as np\n",
        "import matplotlib.pyplot as plt\n",
        "import string\n",
        "from sklearn.linear_model import LogisticRegression\n",
        "\n",
        "def remove_punctuation(text):\n",
        "    import string\n",
        "    translator = str.maketrans('', '', string.punctuation)\n",
        "    return text.translate(translator)\n",
        "\n",
        "import io\n",
        "from google.colab import files\n",
        "import csv\n",
        "\n",
        "#uploaded = files.upload()\n",
        "#baby_df = pd.read_csv(io.StringIO(uploaded['amazon_baby.csv'].decode('utf-8')))\n",
        "\n",
        "baby_df = pd.read_csv('amazon_baby.csv')\n",
        "baby_df.head()"
      ]
    },
    {
      "cell_type": "markdown",
      "metadata": {
        "id": "TLmoOA90Uu1S"
      },
      "source": [
        "## Exercise 1 (data preparation)\n",
        "a) Remove punctuation from reviews using the given function.   \n",
        "b) Replace all missing (nan) revies with empty \"\" string.  \n",
        "c) Drop all the entries with rating = 3, as they have neutral sentiment.   \n",
        "d) Set all positive ($\\geq$4) ratings to 1 and negative($\\leq$2) to -1."
      ]
    },
    {
      "cell_type": "code",
      "execution_count": 3,
      "metadata": {
        "colab": {
          "base_uri": "https://localhost:8080/",
          "height": 35
        },
        "id": "2vZ5FhEFUu1U",
        "outputId": "9e4ea59d-0a6b-424c-efb1-ffdeafa0d488"
      },
      "outputs": [
        {
          "output_type": "execute_result",
          "data": {
            "text/plain": [
              "''"
            ],
            "application/vnd.google.colaboratory.intrinsic+json": {
              "type": "string"
            }
          },
          "metadata": {},
          "execution_count": 3
        }
      ],
      "source": [
        "#b)\n",
        "\n",
        "baby_df.review = baby_df.review.fillna('')\n",
        "#short test:\n",
        "baby_df[\"review\"][38] == baby_df[\"review\"][38]\n",
        "baby_df[\"review\"][38]"
      ]
    },
    {
      "cell_type": "markdown",
      "source": [
        "Conclusion: Firstly we must replace all missing (nan) reviews with empty string, because we can't remove punctuation from reviews if we don't do this."
      ],
      "metadata": {
        "id": "htrLMQd6zvlK"
      }
    },
    {
      "cell_type": "code",
      "execution_count": 4,
      "metadata": {
        "colab": {
          "base_uri": "https://localhost:8080/"
        },
        "id": "1cBTrCbnUu1T",
        "outputId": "a4518e08-5908-4438-cd84-55b646d320d1"
      },
      "outputs": [
        {
          "output_type": "execute_result",
          "data": {
            "text/plain": [
              "0         These flannel wipes are OK but in my opinion n...\n",
              "1         it came early and was not disappointed i love ...\n",
              "2         Very soft and comfortable and warmer than it l...\n",
              "3         This is a product well worth the purchase  I h...\n",
              "4         All of my kids have cried nonstop when I tried...\n",
              "                                ...                        \n",
              "183526    Such a great idea very handy to have and look ...\n",
              "183527    This product rocks  It is a great blend of fun...\n",
              "183528    This item looks great and cool for my kidsI kn...\n",
              "183529    I am extremely happy with this product I have ...\n",
              "183530    I love this product very mush  I have bought m...\n",
              "Name: review, Length: 183531, dtype: object"
            ]
          },
          "metadata": {},
          "execution_count": 4
        }
      ],
      "source": [
        "#a)\n",
        "def remove_punctuation(text):\n",
        "    import string\n",
        "    translator = str.maketrans('', '', string.punctuation)\n",
        "    return text.translate(translator)\n",
        "\n",
        "#short test: \n",
        "baby_df[\"review\"][4] == 'All of my kids have cried nonstop when I tried to ween them off their pacifier until I found Thumbuddy To Loves Binky Fairy Puppet  It is an easy way to work with your kids to allow them to understand where their pacifier is going and help them part from itThis is a must buy book and a great gift for expecting parents  You will save them soo many headachesThanks for this book  You all rock'\n",
        "remove_punctuation(baby_df[\"review\"][4]) == 'All of my kids have cried nonstop when I tried to ween them off their pacifier until I found Thumbuddy To Loves Binky Fairy Puppet  It is an easy way to work with your kids to allow them to understand where their pacifier is going and help them part from itThis is a must buy book and a great gift for expecting parents  You will save them soo many headachesThanks for this book  You all rock'\n",
        "baby_df['review'] = baby_df['review'].apply(lambda x: remove_punctuation(x))\n",
        "baby_df[\"review\"]"
      ]
    },
    {
      "cell_type": "markdown",
      "source": [
        "Conclusions: As we can see, the puntuations were removed."
      ],
      "metadata": {
        "id": "2h50pmUnzuT1"
      }
    },
    {
      "cell_type": "code",
      "source": [
        "baby_df['rating'].size"
      ],
      "metadata": {
        "colab": {
          "base_uri": "https://localhost:8080/"
        },
        "id": "zjQfuhd4swDo",
        "outputId": "1b34535a-df59-48c6-9ea8-6674887a9aa6"
      },
      "execution_count": 5,
      "outputs": [
        {
          "output_type": "execute_result",
          "data": {
            "text/plain": [
              "183531"
            ]
          },
          "metadata": {},
          "execution_count": 5
        }
      ]
    },
    {
      "cell_type": "code",
      "execution_count": 6,
      "metadata": {
        "colab": {
          "base_uri": "https://localhost:8080/"
        },
        "id": "ug5GvfXVUu1W",
        "outputId": "d4e1039d-c5de-46bc-c439-1be7a5dfeedd"
      },
      "outputs": [
        {
          "output_type": "execute_result",
          "data": {
            "text/plain": [
              "0"
            ]
          },
          "metadata": {},
          "execution_count": 6
        }
      ],
      "source": [
        "#c)\n",
        "baby_df = baby_df[baby_df.rating != 3]\n",
        "#short test:\n",
        "sum(baby_df[\"rating\"] == 3)"
      ]
    },
    {
      "cell_type": "code",
      "source": [
        "baby_df['rating'].size"
      ],
      "metadata": {
        "colab": {
          "base_uri": "https://localhost:8080/"
        },
        "id": "Uow-TuAj1vd5",
        "outputId": "4fba72f5-2779-488d-ead5-87a7f09b72c0"
      },
      "execution_count": 7,
      "outputs": [
        {
          "output_type": "execute_result",
          "data": {
            "text/plain": [
              "166752"
            ]
          },
          "metadata": {},
          "execution_count": 7
        }
      ]
    },
    {
      "cell_type": "code",
      "execution_count": 8,
      "metadata": {
        "colab": {
          "base_uri": "https://localhost:8080/"
        },
        "id": "l0qVk8lGUu1W",
        "outputId": "608aaed3-01ce-4946-e579-470d8f72e12b"
      },
      "outputs": [
        {
          "output_type": "stream",
          "name": "stderr",
          "text": [
            "/usr/local/lib/python3.8/dist-packages/pandas/core/indexing.py:1732: SettingWithCopyWarning: \n",
            "A value is trying to be set on a copy of a slice from a DataFrame\n",
            "\n",
            "See the caveats in the documentation: https://pandas.pydata.org/pandas-docs/stable/user_guide/indexing.html#returning-a-view-versus-a-copy\n",
            "  self._setitem_single_block(indexer, value, name)\n"
          ]
        }
      ],
      "source": [
        "#d) \n",
        "baby_df['rating'].loc[baby_df['rating'] <= 2, ] = -1\n",
        "baby_df['rating'].loc[baby_df['rating'] >= 4] = 1\n",
        "#short test:\n"
      ]
    },
    {
      "cell_type": "code",
      "source": [
        "sum(baby_df[\"rating\"]**2 != 1)"
      ],
      "metadata": {
        "colab": {
          "base_uri": "https://localhost:8080/"
        },
        "id": "J8uFebAmvoyi",
        "outputId": "7ac70a6a-9c5a-4085-d175-e5260bd3227b"
      },
      "execution_count": 9,
      "outputs": [
        {
          "output_type": "execute_result",
          "data": {
            "text/plain": [
              "0"
            ]
          },
          "metadata": {},
          "execution_count": 9
        }
      ]
    },
    {
      "cell_type": "code",
      "source": [
        "baby_df.head(20)"
      ],
      "metadata": {
        "colab": {
          "base_uri": "https://localhost:8080/",
          "height": 677
        },
        "id": "ut1NYs8016SP",
        "outputId": "919f99e9-2bd1-468a-d84a-e7e3613a42d1"
      },
      "execution_count": 10,
      "outputs": [
        {
          "output_type": "execute_result",
          "data": {
            "text/plain": [
              "                                                 name  \\\n",
              "1                               Planetwise Wipe Pouch   \n",
              "2                 Annas Dream Full Quilt with 2 Shams   \n",
              "3   Stop Pacifier Sucking without tears with Thumb...   \n",
              "4   Stop Pacifier Sucking without tears with Thumb...   \n",
              "5   Stop Pacifier Sucking without tears with Thumb...   \n",
              "6             A Tale of Baby's Days with Peter Rabbit   \n",
              "7   Baby Tracker&reg; - Daily Childcare Journal, S...   \n",
              "8   Baby Tracker&reg; - Daily Childcare Journal, S...   \n",
              "9   Baby Tracker&reg; - Daily Childcare Journal, S...   \n",
              "10  Baby Tracker&reg; - Daily Childcare Journal, S...   \n",
              "11  Baby Tracker&reg; - Daily Childcare Journal, S...   \n",
              "12  Baby Tracker&reg; - Daily Childcare Journal, S...   \n",
              "14     Nature's Lullabies First Year Sticker Calendar   \n",
              "15     Nature's Lullabies First Year Sticker Calendar   \n",
              "16     Nature's Lullabies First Year Sticker Calendar   \n",
              "17    Nature's Lullabies Second Year Sticker Calendar   \n",
              "18    Nature's Lullabies Second Year Sticker Calendar   \n",
              "19    Nature's Lullabies Second Year Sticker Calendar   \n",
              "20    Nature's Lullabies Second Year Sticker Calendar   \n",
              "21    Nature's Lullabies Second Year Sticker Calendar   \n",
              "\n",
              "                                               review  rating  \n",
              "1   it came early and was not disappointed i love ...       1  \n",
              "2   Very soft and comfortable and warmer than it l...       1  \n",
              "3   This is a product well worth the purchase  I h...       1  \n",
              "4   All of my kids have cried nonstop when I tried...       1  \n",
              "5   When the Binky Fairy came to our house we didn...       1  \n",
              "6   Lovely book its bound tightly so you may not b...       1  \n",
              "7   Perfect for new parents We were able to keep t...       1  \n",
              "8   A friend of mine pinned this product on Pinter...       1  \n",
              "9   This has been an easy way for my nanny to reco...       1  \n",
              "10  I love this journal and our nanny uses it ever...       1  \n",
              "11  This book is perfect  Im a first time new mom ...       1  \n",
              "12  I originally just gave the nanny a pad of pape...       1  \n",
              "14  Space for monthly photos info and a lot of use...       1  \n",
              "15  I bought this calender for myself for my secon...       1  \n",
              "16  I love this little calender you can keep track...       1  \n",
              "17  This was the only calender I could find for th...       1  \n",
              "18  I completed a calendar for my sons first year ...       1  \n",
              "19  We wanted to get something to keep track of ou...       1  \n",
              "20  I had a hard time finding a second year calend...       1  \n",
              "21  I only purchased a secondyear calendar for my ...      -1  "
            ],
            "text/html": [
              "\n",
              "  <div id=\"df-8d999ae9-c454-41a0-ac34-420aac944272\">\n",
              "    <div class=\"colab-df-container\">\n",
              "      <div>\n",
              "<style scoped>\n",
              "    .dataframe tbody tr th:only-of-type {\n",
              "        vertical-align: middle;\n",
              "    }\n",
              "\n",
              "    .dataframe tbody tr th {\n",
              "        vertical-align: top;\n",
              "    }\n",
              "\n",
              "    .dataframe thead th {\n",
              "        text-align: right;\n",
              "    }\n",
              "</style>\n",
              "<table border=\"1\" class=\"dataframe\">\n",
              "  <thead>\n",
              "    <tr style=\"text-align: right;\">\n",
              "      <th></th>\n",
              "      <th>name</th>\n",
              "      <th>review</th>\n",
              "      <th>rating</th>\n",
              "    </tr>\n",
              "  </thead>\n",
              "  <tbody>\n",
              "    <tr>\n",
              "      <th>1</th>\n",
              "      <td>Planetwise Wipe Pouch</td>\n",
              "      <td>it came early and was not disappointed i love ...</td>\n",
              "      <td>1</td>\n",
              "    </tr>\n",
              "    <tr>\n",
              "      <th>2</th>\n",
              "      <td>Annas Dream Full Quilt with 2 Shams</td>\n",
              "      <td>Very soft and comfortable and warmer than it l...</td>\n",
              "      <td>1</td>\n",
              "    </tr>\n",
              "    <tr>\n",
              "      <th>3</th>\n",
              "      <td>Stop Pacifier Sucking without tears with Thumb...</td>\n",
              "      <td>This is a product well worth the purchase  I h...</td>\n",
              "      <td>1</td>\n",
              "    </tr>\n",
              "    <tr>\n",
              "      <th>4</th>\n",
              "      <td>Stop Pacifier Sucking without tears with Thumb...</td>\n",
              "      <td>All of my kids have cried nonstop when I tried...</td>\n",
              "      <td>1</td>\n",
              "    </tr>\n",
              "    <tr>\n",
              "      <th>5</th>\n",
              "      <td>Stop Pacifier Sucking without tears with Thumb...</td>\n",
              "      <td>When the Binky Fairy came to our house we didn...</td>\n",
              "      <td>1</td>\n",
              "    </tr>\n",
              "    <tr>\n",
              "      <th>6</th>\n",
              "      <td>A Tale of Baby's Days with Peter Rabbit</td>\n",
              "      <td>Lovely book its bound tightly so you may not b...</td>\n",
              "      <td>1</td>\n",
              "    </tr>\n",
              "    <tr>\n",
              "      <th>7</th>\n",
              "      <td>Baby Tracker&amp;reg; - Daily Childcare Journal, S...</td>\n",
              "      <td>Perfect for new parents We were able to keep t...</td>\n",
              "      <td>1</td>\n",
              "    </tr>\n",
              "    <tr>\n",
              "      <th>8</th>\n",
              "      <td>Baby Tracker&amp;reg; - Daily Childcare Journal, S...</td>\n",
              "      <td>A friend of mine pinned this product on Pinter...</td>\n",
              "      <td>1</td>\n",
              "    </tr>\n",
              "    <tr>\n",
              "      <th>9</th>\n",
              "      <td>Baby Tracker&amp;reg; - Daily Childcare Journal, S...</td>\n",
              "      <td>This has been an easy way for my nanny to reco...</td>\n",
              "      <td>1</td>\n",
              "    </tr>\n",
              "    <tr>\n",
              "      <th>10</th>\n",
              "      <td>Baby Tracker&amp;reg; - Daily Childcare Journal, S...</td>\n",
              "      <td>I love this journal and our nanny uses it ever...</td>\n",
              "      <td>1</td>\n",
              "    </tr>\n",
              "    <tr>\n",
              "      <th>11</th>\n",
              "      <td>Baby Tracker&amp;reg; - Daily Childcare Journal, S...</td>\n",
              "      <td>This book is perfect  Im a first time new mom ...</td>\n",
              "      <td>1</td>\n",
              "    </tr>\n",
              "    <tr>\n",
              "      <th>12</th>\n",
              "      <td>Baby Tracker&amp;reg; - Daily Childcare Journal, S...</td>\n",
              "      <td>I originally just gave the nanny a pad of pape...</td>\n",
              "      <td>1</td>\n",
              "    </tr>\n",
              "    <tr>\n",
              "      <th>14</th>\n",
              "      <td>Nature's Lullabies First Year Sticker Calendar</td>\n",
              "      <td>Space for monthly photos info and a lot of use...</td>\n",
              "      <td>1</td>\n",
              "    </tr>\n",
              "    <tr>\n",
              "      <th>15</th>\n",
              "      <td>Nature's Lullabies First Year Sticker Calendar</td>\n",
              "      <td>I bought this calender for myself for my secon...</td>\n",
              "      <td>1</td>\n",
              "    </tr>\n",
              "    <tr>\n",
              "      <th>16</th>\n",
              "      <td>Nature's Lullabies First Year Sticker Calendar</td>\n",
              "      <td>I love this little calender you can keep track...</td>\n",
              "      <td>1</td>\n",
              "    </tr>\n",
              "    <tr>\n",
              "      <th>17</th>\n",
              "      <td>Nature's Lullabies Second Year Sticker Calendar</td>\n",
              "      <td>This was the only calender I could find for th...</td>\n",
              "      <td>1</td>\n",
              "    </tr>\n",
              "    <tr>\n",
              "      <th>18</th>\n",
              "      <td>Nature's Lullabies Second Year Sticker Calendar</td>\n",
              "      <td>I completed a calendar for my sons first year ...</td>\n",
              "      <td>1</td>\n",
              "    </tr>\n",
              "    <tr>\n",
              "      <th>19</th>\n",
              "      <td>Nature's Lullabies Second Year Sticker Calendar</td>\n",
              "      <td>We wanted to get something to keep track of ou...</td>\n",
              "      <td>1</td>\n",
              "    </tr>\n",
              "    <tr>\n",
              "      <th>20</th>\n",
              "      <td>Nature's Lullabies Second Year Sticker Calendar</td>\n",
              "      <td>I had a hard time finding a second year calend...</td>\n",
              "      <td>1</td>\n",
              "    </tr>\n",
              "    <tr>\n",
              "      <th>21</th>\n",
              "      <td>Nature's Lullabies Second Year Sticker Calendar</td>\n",
              "      <td>I only purchased a secondyear calendar for my ...</td>\n",
              "      <td>-1</td>\n",
              "    </tr>\n",
              "  </tbody>\n",
              "</table>\n",
              "</div>\n",
              "      <button class=\"colab-df-convert\" onclick=\"convertToInteractive('df-8d999ae9-c454-41a0-ac34-420aac944272')\"\n",
              "              title=\"Convert this dataframe to an interactive table.\"\n",
              "              style=\"display:none;\">\n",
              "        \n",
              "  <svg xmlns=\"http://www.w3.org/2000/svg\" height=\"24px\"viewBox=\"0 0 24 24\"\n",
              "       width=\"24px\">\n",
              "    <path d=\"M0 0h24v24H0V0z\" fill=\"none\"/>\n",
              "    <path d=\"M18.56 5.44l.94 2.06.94-2.06 2.06-.94-2.06-.94-.94-2.06-.94 2.06-2.06.94zm-11 1L8.5 8.5l.94-2.06 2.06-.94-2.06-.94L8.5 2.5l-.94 2.06-2.06.94zm10 10l.94 2.06.94-2.06 2.06-.94-2.06-.94-.94-2.06-.94 2.06-2.06.94z\"/><path d=\"M17.41 7.96l-1.37-1.37c-.4-.4-.92-.59-1.43-.59-.52 0-1.04.2-1.43.59L10.3 9.45l-7.72 7.72c-.78.78-.78 2.05 0 2.83L4 21.41c.39.39.9.59 1.41.59.51 0 1.02-.2 1.41-.59l7.78-7.78 2.81-2.81c.8-.78.8-2.07 0-2.86zM5.41 20L4 18.59l7.72-7.72 1.47 1.35L5.41 20z\"/>\n",
              "  </svg>\n",
              "      </button>\n",
              "      \n",
              "  <style>\n",
              "    .colab-df-container {\n",
              "      display:flex;\n",
              "      flex-wrap:wrap;\n",
              "      gap: 12px;\n",
              "    }\n",
              "\n",
              "    .colab-df-convert {\n",
              "      background-color: #E8F0FE;\n",
              "      border: none;\n",
              "      border-radius: 50%;\n",
              "      cursor: pointer;\n",
              "      display: none;\n",
              "      fill: #1967D2;\n",
              "      height: 32px;\n",
              "      padding: 0 0 0 0;\n",
              "      width: 32px;\n",
              "    }\n",
              "\n",
              "    .colab-df-convert:hover {\n",
              "      background-color: #E2EBFA;\n",
              "      box-shadow: 0px 1px 2px rgba(60, 64, 67, 0.3), 0px 1px 3px 1px rgba(60, 64, 67, 0.15);\n",
              "      fill: #174EA6;\n",
              "    }\n",
              "\n",
              "    [theme=dark] .colab-df-convert {\n",
              "      background-color: #3B4455;\n",
              "      fill: #D2E3FC;\n",
              "    }\n",
              "\n",
              "    [theme=dark] .colab-df-convert:hover {\n",
              "      background-color: #434B5C;\n",
              "      box-shadow: 0px 1px 3px 1px rgba(0, 0, 0, 0.15);\n",
              "      filter: drop-shadow(0px 1px 2px rgba(0, 0, 0, 0.3));\n",
              "      fill: #FFFFFF;\n",
              "    }\n",
              "  </style>\n",
              "\n",
              "      <script>\n",
              "        const buttonEl =\n",
              "          document.querySelector('#df-8d999ae9-c454-41a0-ac34-420aac944272 button.colab-df-convert');\n",
              "        buttonEl.style.display =\n",
              "          google.colab.kernel.accessAllowed ? 'block' : 'none';\n",
              "\n",
              "        async function convertToInteractive(key) {\n",
              "          const element = document.querySelector('#df-8d999ae9-c454-41a0-ac34-420aac944272');\n",
              "          const dataTable =\n",
              "            await google.colab.kernel.invokeFunction('convertToInteractive',\n",
              "                                                     [key], {});\n",
              "          if (!dataTable) return;\n",
              "\n",
              "          const docLinkHtml = 'Like what you see? Visit the ' +\n",
              "            '<a target=\"_blank\" href=https://colab.research.google.com/notebooks/data_table.ipynb>data table notebook</a>'\n",
              "            + ' to learn more about interactive tables.';\n",
              "          element.innerHTML = '';\n",
              "          dataTable['output_type'] = 'display_data';\n",
              "          await google.colab.output.renderOutput(dataTable, element);\n",
              "          const docLink = document.createElement('div');\n",
              "          docLink.innerHTML = docLinkHtml;\n",
              "          element.appendChild(docLink);\n",
              "        }\n",
              "      </script>\n",
              "    </div>\n",
              "  </div>\n",
              "  "
            ]
          },
          "metadata": {},
          "execution_count": 10
        }
      ]
    },
    {
      "cell_type": "markdown",
      "source": [
        "Conclusions: As we can see, all elements with rating >= 4 were replaced with value 1 and with rating <= 2 by value -1 and there is no ratings with value of 3."
      ],
      "metadata": {
        "id": "p4k-IfEs2Ahl"
      }
    },
    {
      "cell_type": "markdown",
      "metadata": {
        "id": "VadEBtmOUu1X"
      },
      "source": [
        "## CountVectorizer\n",
        "In order to analyze strings, we need to assign them numerical values. We will use one of the simplest string representation, which transforms strings into the $n$ dimensional vectors. The number of dimensions will be the size of our dictionary, and then the values of the vector will represent the number of appereances of the given word in the sentence."
      ]
    },
    {
      "cell_type": "code",
      "execution_count": 11,
      "metadata": {
        "colab": {
          "base_uri": "https://localhost:8080/"
        },
        "id": "RFI2M_EuUu1X",
        "outputId": "e0db72ba-cd85-4a9d-d764-135af4fa591f"
      },
      "outputs": [
        {
          "output_type": "stream",
          "name": "stdout",
          "text": [
            "['adore', 'and', 'apples', 'bananas', 'dislike', 'hate', 'like', 'oranges', 'they', 'we']\n",
            "[[0 0 1 0 0 0 1 0 0 1]\n",
            " [0 0 0 0 0 1 0 1 0 1]\n",
            " [1 0 0 1 0 0 0 0 0 0]\n",
            " [0 1 1 0 0 0 2 1 0 1]\n",
            " [0 0 0 1 1 0 0 0 1 0]]\n"
          ]
        },
        {
          "output_type": "stream",
          "name": "stderr",
          "text": [
            "/usr/local/lib/python3.8/dist-packages/sklearn/utils/deprecation.py:87: FutureWarning: Function get_feature_names is deprecated; get_feature_names is deprecated in 1.0 and will be removed in 1.2. Please use get_feature_names_out instead.\n",
            "  warnings.warn(msg, category=FutureWarning)\n"
          ]
        }
      ],
      "source": [
        "from sklearn.feature_extraction.text import CountVectorizer\n",
        "\n",
        "vectorizer = CountVectorizer()\n",
        "reviews_train_example = [\"We like apples\",\n",
        "                   \"We hate oranges\",\n",
        "                   \"I adore bananas\",\n",
        "                   \"We like like apples and oranges\",\n",
        "                   \"They dislike bananas\"]\n",
        "\n",
        "X_train_example = vectorizer.fit_transform(reviews_train_example)\n",
        "\n",
        "print(vectorizer.get_feature_names())\n",
        "print(X_train_example.todense())\n",
        "\n"
      ]
    },
    {
      "cell_type": "code",
      "execution_count": 12,
      "metadata": {
        "colab": {
          "base_uri": "https://localhost:8080/"
        },
        "id": "RGeXIkcuUu1Y",
        "outputId": "48cedd51-f8ef-460b-9197-85b62801d4bc"
      },
      "outputs": [
        {
          "output_type": "stream",
          "name": "stdout",
          "text": [
            "[[0 0 0 1 0 0 1 0 1 0]\n",
            " [0 1 1 1 0 1 0 1 0 1]\n",
            " [0 0 0 1 0 0 0 0 0 1]]\n"
          ]
        }
      ],
      "source": [
        "reviews_test_example = [\"They like bananas\",\n",
        "                   \"We hate oranges bananas and apples\",\n",
        "                   \"We love bananas\"] #New word!\n",
        "\n",
        "X_test_example = vectorizer.transform(reviews_test_example)\n",
        "\n",
        "print(X_test_example.todense())"
      ]
    },
    {
      "cell_type": "markdown",
      "metadata": {
        "id": "K8y4bawhUu1a"
      },
      "source": [
        "We should acknowledge few facts. Firstly, CountVectorizer does not take order into account. Secondly, it ignores one-letter words (this can be changed during initialization). Finally, for test values, CountVectorizer ignores words which are not in it's dictionary."
      ]
    },
    {
      "cell_type": "markdown",
      "metadata": {
        "id": "PjLrL_1lUu1a"
      },
      "source": [
        "## Exercise 2 \n",
        "a) Split dataset into training and test sets.     \n",
        "b) Transform reviews into vectors using CountVectorizer. "
      ]
    },
    {
      "cell_type": "code",
      "execution_count": 34,
      "metadata": {
        "collapsed": true,
        "id": "MyCXoYiFUu1b"
      },
      "outputs": [],
      "source": [
        "#a)\n",
        "\n",
        "vectorizer = CountVectorizer()\n",
        "\n",
        "from sklearn.model_selection import train_test_split\n",
        "train, test = train_test_split(baby_df, test_size=0.3)"
      ]
    },
    {
      "cell_type": "code",
      "execution_count": 35,
      "metadata": {
        "collapsed": true,
        "id": "5N32erOmUu1b"
      },
      "outputs": [],
      "source": [
        "#b)\n",
        "X_train_baby = vectorizer.fit_transform(train['review'])\n",
        "\n",
        "X_test_baby = vectorizer.transform(test['review'])\n"
      ]
    },
    {
      "cell_type": "markdown",
      "metadata": {
        "id": "JcgCSc3-Uu1c"
      },
      "source": [
        "## Exercise 3 \n",
        "a) Train LogisticRegression model on training data (reviews processed with CountVectorizer, ratings as they were).   \n",
        "b) Print 10 most positive and 10 most negative words."
      ]
    },
    {
      "cell_type": "code",
      "execution_count": 37,
      "metadata": {
        "colab": {
          "base_uri": "https://localhost:8080/"
        },
        "id": "L4RLjzHyUu1c",
        "outputId": "a9465297-9910-4298-910b-67295572389f"
      },
      "outputs": [
        {
          "output_type": "stream",
          "name": "stderr",
          "text": [
            "/usr/local/lib/python3.8/dist-packages/sklearn/linear_model/_logistic.py:814: ConvergenceWarning: lbfgs failed to converge (status=1):\n",
            "STOP: TOTAL NO. of ITERATIONS REACHED LIMIT.\n",
            "\n",
            "Increase the number of iterations (max_iter) or scale the data as shown in:\n",
            "    https://scikit-learn.org/stable/modules/preprocessing.html\n",
            "Please also refer to the documentation for alternative solver options:\n",
            "    https://scikit-learn.org/stable/modules/linear_model.html#logistic-regression\n",
            "  n_iter_i = _check_optimize_result(\n"
          ]
        },
        {
          "output_type": "execute_result",
          "data": {
            "text/plain": [
              "LogisticRegression()"
            ]
          },
          "metadata": {},
          "execution_count": 37
        }
      ],
      "source": [
        "#a)\n",
        "model = LogisticRegression()\n",
        "model.fit(X_train_baby, train['rating'])"
      ]
    },
    {
      "cell_type": "code",
      "execution_count": 38,
      "metadata": {
        "collapsed": true,
        "id": "0Sd-U7ZAUu1c",
        "colab": {
          "base_uri": "https://localhost:8080/"
        },
        "outputId": "e127a6c3-e14e-4665-c963-acbed3ecfe69"
      },
      "outputs": [
        {
          "output_type": "stream",
          "name": "stdout",
          "text": [
            "Top 10 negative words: \n",
            "worst\n",
            "poorly\n",
            "disappointing\n",
            "worthless\n",
            "disappointment\n",
            "concept\n",
            "horrible\n",
            "disappointed\n",
            "overpriced\n",
            "theory\n",
            "\n",
            "Top 10 positive words: \n",
            "satisfied\n",
            "awesome\n",
            "excellent\n",
            "worry\n",
            "perfect\n",
            "amazing\n",
            "skeptical\n",
            "lifesaver\n",
            "complaint\n",
            "loves\n"
          ]
        },
        {
          "output_type": "stream",
          "name": "stderr",
          "text": [
            "/usr/local/lib/python3.8/dist-packages/sklearn/utils/deprecation.py:87: FutureWarning: Function get_feature_names is deprecated; get_feature_names is deprecated in 1.0 and will be removed in 1.2. Please use get_feature_names_out instead.\n",
            "  warnings.warn(msg, category=FutureWarning)\n"
          ]
        }
      ],
      "source": [
        "#b)\n",
        "\n",
        "coef = np.argsort(model.coef_[0])\n",
        "names = vectorizer.get_feature_names()\n",
        "\n",
        "print(\"Top 10 negative words: \")\n",
        "for i in range(10):\n",
        "  print(names[coef[i]])\n",
        "print()\n",
        "\n",
        "print(\"Top 10 positive words: \")\n",
        "for i in range(1, 11, 1):\n",
        "  print(names[coef[-i]])\n",
        "\n",
        "#hint: model.coef_, vectorizer.get_feature_names()"
      ]
    },
    {
      "cell_type": "markdown",
      "metadata": {
        "id": "ec-FGJRgUu1d"
      },
      "source": [
        "## Exercise 4 \n",
        "a) Predict the sentiment of test data reviews.   \n",
        "b) Predict the sentiment of test data reviews in terms of probability.   \n",
        "c) Find five most positive and most negative reviews.   \n",
        "d) Calculate the accuracy of predictions."
      ]
    },
    {
      "cell_type": "code",
      "execution_count": 39,
      "metadata": {
        "collapsed": true,
        "id": "1HwdZDRXUu1d",
        "colab": {
          "base_uri": "https://localhost:8080/"
        },
        "outputId": "679d053f-96fd-4219-c82d-fbea9c9a4c76"
      },
      "outputs": [
        {
          "output_type": "execute_result",
          "data": {
            "text/plain": [
              "array([-1,  1,  1, ..., -1,  1,  1])"
            ]
          },
          "metadata": {},
          "execution_count": 39
        }
      ],
      "source": [
        "#a)\n",
        "model.predict(X_test_baby)"
      ]
    },
    {
      "cell_type": "code",
      "execution_count": 40,
      "metadata": {
        "collapsed": true,
        "id": "sZm6wR2NUu1e",
        "colab": {
          "base_uri": "https://localhost:8080/"
        },
        "outputId": "759a2d2d-30eb-45d0-e635-e8657008fe06"
      },
      "outputs": [
        {
          "output_type": "execute_result",
          "data": {
            "text/plain": [
              "array([[0.87587515, 0.12412485],\n",
              "       [0.12255121, 0.87744879],\n",
              "       [0.01378696, 0.98621304],\n",
              "       ...,\n",
              "       [0.88118316, 0.11881684],\n",
              "       [0.00307872, 0.99692128],\n",
              "       [0.14172315, 0.85827685]])"
            ]
          },
          "metadata": {},
          "execution_count": 40
        }
      ],
      "source": [
        "#b)\n",
        "prob_results = model.predict_proba(X_test_baby)\n",
        "prob_results\n",
        "#hint: model.predict_proba()"
      ]
    },
    {
      "cell_type": "code",
      "execution_count": 42,
      "metadata": {
        "collapsed": true,
        "id": "g7zE5r0AUu1e",
        "colab": {
          "base_uri": "https://localhost:8080/"
        },
        "outputId": "69ff9a90-cd9c-49c2-bb51-80e2f753b4df"
      },
      "outputs": [
        {
          "output_type": "stream",
          "name": "stdout",
          "text": [
            "Positive reviews: \n",
            "I purchased this car seat online through BRUS about a month ago and have the Gemni purple color It was all that was available and even though I have a boy its a very deep purple and not girlieI have very similar sentiments as the first reviewer Prior to buying this one I bought and tested the Radian Diono SafetyFirst Air 65 Britax Pavilion and Recaro ProRide This car seat was my absolute favorite The Recaro ProRide was up there except its latch anchor belt is surprisinglyridiculously too short and I could not install it into my 2008 Hyundai Tuscan a compact SUV I had no problem installing any of the other car seats with the latch anchor system so the Recaro was completely out of the running which was a bummer because it did seem very nice Right now we are using it rearfacing for my 9month old who recently grew out of his Chicco Keyfit He is approximately 28 inches tall and 19 lbs his head in the infant seat while sitting was more than an inch from the edge We have successfully installed it into a 2008 Hyundai Tuscan a 2003 Toyota Highlander and a conversion van no clue the makemodel or year but it didnt have latch anchorsEase of Installation and Tight Fit  105Installation is the easiest of all of the convertible carseats we tried tried Wellwith the latch anchor that is We transferred into a van that didnt have anchors and spent 10 minutes trying to figure out how to use the seatbelt to install The photos on the car seat didnt help at all Maybe its just us but we arent dumb people and my husband eventually had to look up a video online in order to figure it out there isnt actually a video that shows how to do it rearfacing either only forwardfacing but we finally figured it out The numbered base is awesome neither of us were comfortable using a pool noodle or towel to secure a car seat and makes it SO easy to change the angle It kind of makes you wonder why this wasnt done by any other car seat company ever before The bubble level  also ingenious I mean really why no other car seat company puts one on their car seats is beyond me Being able to VISUALLY see instantly whether or not your car seat is installed properly so you can quickly and easily make the adjustment could mean the difference of life or death of your child Again not sure why every car seat out there isnt equipped with better visual indicators The latch system allows you to get a TIGHT fit in less than a minute Shake the car seat and it doesnt move It was the absolute tightest fit we got with the least amount of time effort of all the car seats we tested For installation ease and fit this car seat gets 10 starsSize   455The first car seat I tried was the Radian Diono because it goes up to 120 lbs forward facing and I wouldnt need to buy another car seat The problem with that concept however for us was that the passenger seat had to be moved all the way forward in order to get it to fit we have it installed behind the passenger seat This would obviously be an even greater issue as we add additional car seats and we cant push the driver seat up much The Britax Pavilion and Safety First were also too long when we tried to get the angle right The NextFit and ProRide were the only two that fit nicely behind the passenger seat without having to move the seat up too much What I like better about the KeyFit though is that the side protectors arent as huge as the ProRide and my child can still see out the window He is still getting the side impact protection without sacrificing his view The Radian was the easiest car seat to get my child into and out of from a spacing standpoint The ProRide was pretty tight and hes only 9 months old SafetyFirst was decent as is the KeyFit The sides of the carseat come up a bit more than some of the others its a bit wider but I still have ample space to get my son in and out without banging his head on the car Like I said it is a bit wider so there is no way you could get more than 2 car seats in your back seat and Im not sure you could fit a third person along with the two car seats Recaro ProRide boasts fitting 3 across the back so if you need that option the KeyFit might not be your car seat In comparing the size sturdiness weight its heavy  in a good way  but not crazy heavy if you are transferring often its manage to the others I think they KeyFit is among the best I think an easy addition for Chicco is a small handle of some sort on the back to make transporting it easier Theres really not much you can grab onto towards the topback which forces you to sort of wrap your whole arms around it to lift it Id love a small handlegrip area to just pick it up with one hand For that I give this area 45 starsHeight Adjustable Harness no need to rethread just pull uppush down   45I love this feature It allows you to get the best possible fit for your child in hisher seat very quickly without taking anything apart and rethreading Other convertible car seats have this ability to easily move the straps up and down SafetyFirst Air was a button too and the Recaro ProRide has a circular crank you turn on both sides but not as great as the Nextfit SafetyFirst Air wouldnt go low enough and my sons head didnt even come close to the side protectors The NexFit slide goes down nice and low The slide however is sticky and definitely doesnt slide as easily as the SafetyFirst or Recaro but Im hoping its just because its new and needs a little movement Though at this price point and from Chicco I would expect it to work flawlessly So it only gets 4 starsPaddingComfort  Pending  455The padding is great in this car seat Going from the KeyFit where you could feel the plastic through the padding Chicco really stepped it up with the NextFit It is plush and has almost a memory foam feel The only concern I have as other reviewers do is the breathability of it especially during the summer We are still experiencing snow here in May lovely MN but had 2 days of 70 degree weather and when I pulled my son out of the car seat after an hour long car ride he was wet on his back and the back of his head This is a bit concerning to me as we had the air on and I was even a little chilly in the car I am definitely concerned about how it will perform on long road trips so I would warn buyers to test this during warm weather if possible I will not hesitate to return this car seat if it is going to make my son sweaty and uncomfortable Because of this I can only give this area 4 stars right now instead of 5 I will update once I can test this better However the material is easy enough to wipe down which is also important so Ill bump it up to 45 starsHarnessStraps   15 UPDATE  355UGH This is the ONLY thing I hate about the car seat We were coming from the KeyFit and the NextFit is pretty much identical as far as the tightening system goes Only it takes WAY too much effort to get it snug  and nearly impossible to get it tight I think a lot of it has to do with some sort of design flaw when the seat is actually installed and the child is sitting in the seat Because sitting on the floor in our living room we can tighten and loosen that thing super easily But once its installed youre trying to pull the strap back toward your child not down but the strap is wedged between the seat and the carseat and it is SO hard to budge we did notice you have to make sure the headrest of the seat in front is not touching the car seat because the belt goes through the back and is exposed so if its touching and pushing on it that can prevent you from being able to tighten the strap Even after we noticed that though the strap is STILL very hard to tighten I think the shoulder pads might be getting in the way too its hard to tell I hate the size of the shoulder pads They are WAY too big for my son and I cannot remove them That is a BIG fail to me When I buckle him in and push the plastic buckle part up so it is across his chest in the right spot the shoulder pads overlap onto the buckle and are so long they touch the back of the car seat If I could remove them perhaps we could get a tighter fit and as he gets bigger I am hoping this is no longer an issue Right now I have to yank and yank and yank and yank to get it as tight as I can and it still doesnt feel or look tight enough Its also impossible to do the pinch test because of the shoulder pads That also annoys me Chicco did SO well on everything else it saddens me that this important aspect was the worst out of all the car seats I tested Dont judge by playing with it at the store You have to install it and put your kid in and test it out before you can get a sense for the difficulty of this This was actually the reason I ordered the Recaro ProRide which didnt end up fitting in my car or it may have replaced the KeyFit The only redeeming quality of the harnessstraps system is that there are two different buckle points for rearfacing vs forwardfacing Im not really sure how big of deal this is but if it truly does provide added safety I think that it is a really great feature That earns this area 1 single starUPDATE I moved the head part up and was able to tighten the harness MUCH easier Super happy about that The shoulder straps are still annoying so I will bump this part up to a 35 I still think this should still be easier and none of the other of the other car seats I tested were this difficult I think some redesigntweaking here could make the KeyFit really blow all the other convertible car seats in its class out of the water I mean simply having removable shoulder pads would be hugeDespite the issues with tightening this is still my favorite car seat out of all of the ones we tested There are so many great things about it and I am still working on troubleshooting the harnessstraps because I truly think its something that is fixable Ive been in contact with Chicco customer service and am just trying to coordinate a timedate I can be on the phone with them while my son is strapped in and patient enough to let us troubleshoot itIm not sure why it took Chicco this long to come out with a convertible car seat but Id like to think it was because they were really finetuning a really awesome concept that is among the best out there With so many out there at so many different price points it can be hard to decide This car seat is by far the easiest to use of the ones we tested with the most features that ensure and VISIBLY show the safety and security of my child so I know Im putting him in safely every time Nothing against people who use pool noodles or towels to get the right angleI just think if I am spending that much money on something it should come with everything I need to get the right fit I dont ever want to have to guess if my childs car seat is installed correctly or hes strapped in correctly or angled correctly Chicco takes the guesswork out of everything so you can transport your child with confidence and peace of mind every timeGosh I sound like an infomercial LolI hope this helps thoughUPDATE Okay so I figured out I had threaded the Recaro ProRide latch belt through the forward facing area and there is a different rearfacing area so when I previously said I wasnt dumbI may need to retract that statement I still have the car seat so I tried it again and sure enough it fit However because the back seats in my SUV slant back somewhat there was still a gap where the base didnt meet the seat when I tilted the car seat back to have the line parallel to the seatI tried for 20 minutes to get it installed tightly without having to put anything in that gap and finally gave up and decided to stick with the Chicco KeyFit The ProRide would definitely be my second choice though The button to release the belt that tightens the harness is a bit more hidden and harder to access than the KeyFit though super easy to tighten and some of the foam from the padding is exposed near the crotch belt which makes me nervous with dirtfoodspills Those are things I could live with however not being able to easily get the right seat angle isnt I think this would be an awesome forward facing seat The ProRides material seemed more breathable than the KeyFit but we will seesummer needs to reach us here first in MNUPDATE 11614 Just adding another update as weve now had the carseats for almost 10 months Just want to say that Ive noticed something important that affects my ability to tighten the straps  the air temperature We have hit some record lows here in MN this winter 45 with the wind chill and if I do not have my car warmed up before I put my son in it it is SO very difficult to tighten the straps I didnt consider this before with my review because I didnt think about that being a factor but it absolutely is Once the car is warmer though the straps move much more easily So Im not sure this is a design flawbut this is still my only complaint about the carseat The straps are still annoying but I dont notice them as much now that hes bigger Weve also gotten a minivan Honda Odyssey that we now have this carseat in second baby on the way and it was just as easy to install and fits wonderfully My son is nearly 18 months old now and around 28 lbs and 32 tall which is considered average for height and weight hes a little rounder than he is tall though He still fits very easily and comfortably into this carseat rearfacing I can definitely see us being able to keep him rearfacing until he is 2 Right now his feet dont even touch the seat because the carseat is angled back and he sits in it fairly deeply Im very happy that I can continue to keep him comfortably rearfacing in this seat as Ive had many friends turn their kids forward because their kids became uncomfortable in their carseat rearfacing So if that is important to you and your child is averageish percentile or lower for height and weight you will probably be able to keep them rearfacing until 2 I will post another update though once hes 2 and verify that we were able to do this\n",
            "Our baby is six weeks old and so far this Pack N Play is the item that has gotten more use than any other single baby item we own matched perhaps only byFisherPrice Zen Collection Cradle SwingOur original plan was to put the baby to sleep at night in a bassinet that someone had given us however we noticed that the baby laid really flat in the bassinet She seemed uncomfortable and she tended to roll to one side Also we were worried that she might choke if she spit up in her sleep while laying flat on her back in that bassinet So we opted to set up the Pack N Play in our room instead and to use the napper attachment as a bed If I had known how very useful this thing was going to be I probably would have stopped my wife from converting our guest room and office into a baby room that doesnt even really get used From now on my advice to new parents will be that a Pack N Play is the only baby furniture you need for the first few months of the babys life so dont worry about a crib dresser changing table or bassinet All of those are included in the Pack N PlayThere are a few minor imperfections in this thing and that is the reason I give it four stars instead of five I will highlight the good and bad belowGOODNapper attachment  This has actually served as a bed for our newborn baby It is very soft and she sleeps well in it We also like that it keeps her at a slightly inclined position so that she breathes better and wont choke if she should spit up in her sleepElectronics  The music has served as a lullaby not only for the baby but also for me and my wife We put the music on every night even if the baby is already asleep Also the vibrating base has really helped when the baby has gas There is a builtin timer so it will save the battery life too I just did the first battery change after six weeks of daily useShelves  We actually havent used them yet because we havent taken it on a trip yet but that is going to be very convenient when we take it on a tripChanging table  It is nice to have an attached changing table with nice steep sides My wifes mother came and stayed with us to help out for the first couple weeks of the babys life and we had to put her up in the nursery on an air mattress so we didnt have access to the changing table in the nursery for those latenight diaper changes This was a suitable alternative and was much better than just using a changing pad on the bed or floor The steep sides keep the baby securely enclosed so if you need to step away for a second to grab a diaper or something you dont have to worry about the baby rolling off There is one problem with it that I will mention laterBADAssembly OK so the basic bottom unit assembles fairly easily You just pop it into place and put the pad in If you ignore the unnecessary step that calls for turning it on its side and digging out the velcro loops to attach you can have that basic assembly finished in a minute or two very easily The difficulty comes when putting on the other accessories The directions call for putting the release buttons face down on the napper but if you do that it is incredibly difficult to take the napper back out again My advice would be to install the napper with the release buttons faceup They are very stiff buttons and there is no way that an infant could release them so there is not a safety concern but you need to see them to really release them properly so if you follow the directions and put them facedown there is a sanity concern If you disregard the velcro straps and install the napper with the buttons faceup assembly is not so bad It took me about an hour to assemble the first time but much of that was the napper and velcro Can you imagine getting off a long flight or car trip and spending another hour to put together a pack n play before finally relaxing Forget itPortability  Again this is not a problem with the basic bottom unit The outside rails fold up and the fourpiece pad wraps around them to make a nice portable unit that you can pack up and throw in the car However there is no storage for the poles the shelf unit the napper or the changing table so you must carry all of those items separately We have not been on a trip yet but I imagine I will have to carry a separate duffle bag to hold the parts that dont pack up with this unitChanging table  As I mentioned earlier this is a great feature to have and we do get use out of it when there is a guest staying in the nursery and we cant get to the regular changing table The only problem with it is that it doesnt sit flat I have tried adjusting it but no matter what I do it tends to lean towards the outer rail Maybe this is meant to compensate for the babys weight and will correct itself when my daughter weighs more Right now it causes her to roll when I am changing her unless I prop her in the corner When you have a kid like my daughter who prefers to take a second pee as soon as her diaper is loose any rolling around translates to a big mess and that was a lesson I had to learn the hard way on this changing station I am still glad it is there I just wish it was more flatToy bar  I guess it was nice that they included the toy bar with the velcro flowers but my daughter doesnt seem to pay much attention to it and it doesnt attach very securely to the napper It would have been better if the put loops on there so you could attach some of the other universal toys and it would have been better if it secured to the napper more firmly because this one pops off all the timeOverall I am very pleased with the Pack N Play and I would suggest that every parent invest in one I will come back and update my review if I notice anything else worth mentioning\n",
            "Great Pram RoccoI bought this pram from Europe unfortunately it was not available on Amazon back then and cost me tons of money This pram is so great Ive decided to give my opinion on itFirst of all let me notice that I cant imagine how to raise kids without pram I have three kids and it was the most useful and practical purchase for baby I made even I paid a fortune for it back then I used it everyday all year around When you have kids specially newborns and toddlers you dont get much excise plus I was getting really tired staying at home So I compensated it by long walks around neighborhood with our first baby and then taking toddlers to playground or for a walk while baby was sleeping in pram or I would just sent helper out with kids and enjoy some quite time at homeLet me tell you one thing that out weights everything else babies sleep much better outside then inside at home I guess the fresh air and a lot of oxygen make the trickso whenever it was possible I took them outside I was not happy using a car seat or other strollers for that as I worried about their back and spine The pram from other side keeps their back in correct position as it has flat and firm bottom I think none of the strollers that you convert from one position to another provides such a nice flat surface for baby specially for newborns to sleep soundly for few hours When our first daughter got bigger we used this pram with seat unit and visited a lot of places like zoo botanic garden and parks The amortization is great and it gives very smooth ride while kids in other strollers were trembling all the wayHere are few things I really love about this pram Smart  It has the smoothest ride on bouncy sidewalks and park trails  I guess it is because of prams suspension and large air pumped wheels Bassinet is large enough that I use it for quite long time It even fits now my 5 months old in snowsuit bundled in wool sleeping bag and there is some space leftFolded chassis You can detach bassinetseat unit and fold the chassis just in few minutes Cargo of our sedan provides enough space to put chassis and seat there the bassinet is too high to put into the cargo with chassis We also used to detach the bassinet with baby sleeping in it and bring it inside it has handles to carry when the weather gets really rough or when we have to go home and I dont want to wake her up The seatbassinet can face both ways Its not so important for bassinet but very nice for seat unit as babies grow they want to see more and enjoy the ride observing The back of the seat and the footrest can be adjusted up and down and they can make quite a long flat surface for toddler to sleep Rain cover I paid extra but looks like its included here allows you to be safe in any weather condition I used it during snow and windy time also You can easily adjust height of the handle it was great for us because we my husband and I are really different sizes The metal basket provides enough space to put some things when you out and its very convenient I actually used it to take some toys on playground with usBottom line I think Rocco is an excellent pram stroller and I use this pram all the time and I dont know what I would do without it The only thing I regret they didnt sell it here before\n",
            "Were keeping this stroller After much research we settled on the Kolcraft Tandem double stroller and returned it immediately My todder was too tall for the seat at 2 years old so we knew our days were limited in use Now we have the Phil  Teds and LOVE LOVE LOVE it Its my practical every day stroller AND my jogging stroller and performs beautifullyHeres what Im dealing with a very tall toddler just over 2 years a very big and heavy 5 month old and a Mazda 3 5door vehicleIll touch on a few subjects and wont try to reiterate whats already been saidSize Folded down its definitely more compact than the Graco that fits our infant seat I have a small car so I needed something that folded down nicely This takes up a lot less room than the other one and like the other reviewer folds down much easier than my single jogger Kool StrideKool StopSeats Regular seat will fit my toddler for a while  shes about 3 feet tall and 30 lbs She also has no problem climbing in and out by herself It can be difficult getting my little guy in the back seat but I just have to be careful and watch his head on the bar Only bummer is my toddler never really fit well in the doubles seat on the front section too tall Never had a problem with the newborns feet hitting her bottom but her head always hit the bar at the top of the doubles seat Since my little one is big we just put him in back before they recommended and just stuffed blankets to support his head but definitely no jogging with him only quick trips or walks Havent gotten to the point where my little guys feet hit the diaper bag but my JJ Cole bag fits fine for now Might eventually get the bag that goes with it One trick about the little extensions for putting the doubles kit on the front is a keeping it in the Lazy Ted bag that we leave in the car or 2 tucking them into the mesh pockets on the back section of the cargo space Works fine for me and that way I always have them if I need them like if I want to put my newborn in the front seat but dont want to adjust the straps  I just pop on the doubles kit on the frontShading Yup sunhats is the way to go My toddler is tall enough that if the sun is high in the sky the shade does a good job I purchased the ProtectABub shade the other day for the doubles seat but havent used it Looks like it works pretty well but I bring hats anyway The rain cover that came with it is worthless as far as I can tell Thought about buying the double shade but havent decided yetEase of use Fantastic Im pushing two heavy children and I am small I use as a jogger light jogging but on hills in Valley Forge Park and as my every day stroller Maneuvers wonderfully As a jogger its easy to lock wheel  I get faster and faster every time Wish the handlebar came out It adjusts up and down but not out unfortunately design flaw in my opinion As an every day stroller it can be tricky at times I just have to put my toddler in it first then the newborn and take the newborn out first and then the toddler so it doesnt tip Once the kids are in the car I can take as long as I need but its usually quick The doubles seat clicks off quickly as does the front toddler bar I usually rest the handlebar on my shoe so the road doesnt chew it up another design flaw that the handlebar has to be down in order to fold upThe Lazy Ted is amazing If you didnt get this and you have a toddler and newborn get it It folds up in a nice bag and you leave it in the car along with the stroller When youre somewhere and think man I wish I had a bouncy seat voila you do Just grab the doubles seat and the lazy ted bars assemble and youre good to go Weve used it several times in the last few months and are so glad to have it  playing tennis our newborn sat in the seat and our toddler chased after our balls for us at our friends house who doesnt have kids the beach house etcCustomer Service is GREAT We bought the Graffiti Sports model that came with the doubles kit and Lazy Ted One of the pieces in the Lazy Ted broke as soon as we got it and although I was annoyed that I had to pay shipping to Michigan they replaced the entire thing and even gave me a new bar for the front since I had accidentally included it in the bag And then they shipped to me free so it cost all of 7 or 8 dollars to shipReally glad I got this stroller Its worth the money and very versatile for our active lifestyle\n",
            "My dad just bought this car seat for memy son as the next step after his infant carrier Hes large for his age and at 11 months it was time for us to upgrade My dad made the purchase at Sams Club and the price was a lot lower than Amazon  I love Amazon but wanted to put that out there as an FYI  if you have Sams near you or Costco  these seats are sold there as well try there first to get a better priceSo out the box the first impression of the seat was that it seemed sturdy easy to use and had minimal bells and whistles with my Chicco KeyFit infant carrier Im not used to bells and whistles so thats fine by me I took it out in the living room and just started looking over the seat and reading through the manual to familiarize myself with all the features how to adjust everything how to recline the seat love this feature etc I tend to think some of the negative comments here may be due to skipping over this process I feel its a best practice to check out a product of this nature to make sure you have as much knowledge as possible before getting upset that it doesnt fit properly in your car  anyway After reviewing the seat fiddling with the straps and the handy recline feature and understanding the basics of installation we took it to the car to test out the fit My son is still REAR FACING so my review is based on that installation I cannot yet speak to forward facing installationMy car only has LATCH in the center seat so thats where we installed the car seat its the safest spot anyway My dad and I strapped it in together and it was relatively easy to install The LATCH strap feeds acrossunder the seat cushion same if you use seat belt installation then you click in each of the 2 LATCH hooks and tighten the seat and youre done However this method didnt provide a very tight fit and we werent completely comfortable leaving it that way NOTE I have read that you should test the security of the seat installation by trying to move the seat at the point of attachment LATCH or seat belt NOT at the back of the seat when rear facing when a seat is installed rear facing that part of the seat will always have more movement and its not the most accurate test of a secure installationAt that point we decided to use the foam noodle technique to see if that could get the seat tighter Plus the back seat of my car has a slight incline as I think most cars do so even having the car seat in the fully reclined position which is recommended in the manaul for rear facing installation my son would have still been more upright than Id like So we got out a chunk of compressed foam to level out the seat base about 4x8 and installed the carseat on top of that It fit like a glove The seat wasnt going anywhere  it was really tight and secure now I was 110 pleased and confident with the installation and felt very secure and atease putting my son in the new car seatAs for the seat itself Ive seen a few comments here and elsewhere that say the fabric and the padding are inferior I didnt get that impression at all I feel like the seat is very comfortable and sufficiently padded I like the inclusion of side impact protection at the head The straps are also very easy to adjust and have soft pads at the shoulders I havent had to move the straps to different positions other than loosening or tightening there are 3 positions for the buckle the strap in the seat not the harness straps and the instruction manual seemed pretty straight forward if you need to make that adjustment As for the harness straps they are adjustable by simply raising and lowering the back of the seat with the little red levers at each side of the head rest You twist in the handles and lift or lower the back of the seat and the shoulder straps move with it So extremely easy With my son strapped in I feel he is very secure and the seat is the right size and shape for him Its pretty simple to get the straps on him properly and he seems comfortable I like that there is a small pillow included as well  kind of a nice feature for longer drivesI havent yet taken the seat cushion completely off but from what I can tell it seems like it would be pretty easy Of course youd have to deal with the harness straps which I think is the most difficult part of taking off any car seat cushion The cover is attached with little elastic loops that hook onto the plastic seat base  just taking off a few of those loops during the installation process and then reattaching them was pretty simpleThe arm rests are really cool too As my son gets bigger Im sure hell put them to more use but for the now the option of easily folding them up is really nice And the removeable cup holder is easy to use Again a feature better suited for an older child but really nice to haveOverall Im very pleased with this seat and the qualitysafetylongevity for the price I really couldnt beat it  Ive been looking for a car seat to replace the infant carrier for a while now and I just havent found one thats a 3 in 1 seat for less than 150 or so I had decided to get a convertible seat and then buy a booster once he outgrew that Now that I have seen this seat in person and spent some time with it I can say that I would pay 150 for it but knowing I got it for 8000 is even better Such a steal I definitely recommend this seat\n",
            "\n",
            "Negative reviews: \n",
            "This product should be in the hall of fame solely based on its ability to achieve such a high number of positive ratings from parents hoping to stimulate their childs intelligence Dont be fooled its a piece of junk I had such high hopes for this and even at a 15 purchase price I feel ripped offProsNice images with high color contrastCons Simply horrible construction The pieces of plastic could not be more cheap and one of the nubs cracked right off during assembly The arches and misc plastic pieces probably cost all of 20 to manufacture in total The image cards do not easily fit into the attachment nubs and do not hang straight as a result Maybe this changes over time but right now from an underneath view you basically see a card slanted sideways Not interesting IMO The bar that attaches to the side of the crib is a terrible design and it is LAVENDER Seriously it is not white at all It clashes completely with the rest of the product contrary to the image on Amazon and the product boxIts just cheap and hideous really The idea is good but they should be ashamed at the execution The cheap thin plastic and nonmatching parts should be an embarrassment to any manufacturer who claims to me making toys to stimulate a childs thinking and intelligence There was clearly neither thinking or intelligence behind this product\n",
            "This is a long review but if you read the whole thing it may save you some money and frustration If you just want to read the bit about the Bottles jump down to the 6th Paragraph and read from thereI used Avent products with my first child 5 years ago and was absolutely thrilled Back then I was a solomother on welfare so the cost was a real struggle for me but I was so thrilled with the product that I found the money to buy the things I needed for my childFive years on and oh how things have changed This time around I am married and have the funds to be able to buy whichever brand I want without money being a consideration So I eagerly stocked up on all things Avent I bought the 4 oz bottles 9 oz bottles disposable bottle kit Isis Electric Breast Pump pacifiers Bottle  Food Warmer Bottle Tote Formula Dispeser Microwave Steam Steriliser  the whole shebangThe first thing to go wrong was the Isis Breast Pump US150 from BabiesRUs It would work fine for anywhere between 2 and 10 minutes and then the suction would slack off and the rhythm would go out of whack stopping the flow of milk from my breast I would then have to turn off the machine and pump manually instead or be left only partially expressed I was reliant on the pump to take off my milk as my baby would not latch and I really wanted to keep giving her breast milk When the machine broke down I contacted Avent and asked for a refund as I was going to have to replace the machine Avent told me that it was a nonrefundable item but if I waited a week they would send out a label for me to ship the pump back to them and then IF THEY FOUND A FAULT they would then repair it and return it to me They said it would take 24 weeks And what was I to do without a breast pump for a month I asked The lady on the phone suggested that I purchase their manual pump to use in the meantime and boasted that it would only cost me about US50 Needlesstosay I lost a lot of money on this and was absolutely furious I threw the worthless pump in the trash and ended up 100 formulafeeding my babyThen there were issues with some of the nipples tearing and they were less than a month old I figured this was just my misfortune so rather than make a fuss about it I simply replaced the nipples at my own expenseNext came the distorted bottles I noticed one day that the plastic of one of the 4 oz bottles was warped I thought it a little odd but again thought that I had probably just caught a wonky batch and didnt think too much about it Then another bottle warped and another and another and another  fairly soon I had 5 warped bottles some 4 oz some 9 oz Enough was enough I called Avent again and complained only to have the woman on the phone tell me that I mustnt have read the instrustions on the MICROWAVE STEAM STERILISER properly The woman asked me to confirm the wattage of my microwave the amount of time I was putting the bottles in for and how much water I was using 900W 5 minutes 200 mls After telling her she confirmed that yes that was all correct but she still said that I must have been doing something wrong during the sterilising processThe lady sent me out a label to send the bottles back to them for testing She said that once the bottles had been tested then they would get back to me Well while waiting for the label to arrive I ensured that I absolutely was following the instructions correctly when I used the Steriliser but I still managed to have two more bottles warp on me giving me a total of 7 warped bottles to returnI finally got the label and sent the bottles back About a week later Avent called and said that the tests showed I had overloaded the Steriliser and that had caused the bottles to warp She said that as a oneoff courtesy they would replace the five 9oz bottles I pointed out to her that I had stacked the Steriliser as told to do so in the illustrations of the instruction booklet and when I asked about the two 4 oz bottles I had also returned she denied that they had received them even though I put them all in the package myself and refused to discuss the matter any further So I have lost 2 bottles and have a steriliser that apparently likes to melt bottles regardless of how cautious I am about follwing the directionsThe other things I have had issues with are the pacifiers and the Bottle Tote The pacifiers had a hard edge on the silicone which was very uncomfortable for my newborn I ended up replacing these with a different brand as Avent wanted me to return the pacifiers to them at my own expense before they would consider replacing them The Bottle Tote packaging states that it will keep bottles warm or cold for up to 4 hours This is more like up to 2 hours but even that is dubious In order to get the bottles hot enough to stay warm for 4 hours it would have to be boiling water but if you put boiling water into the bottles the pressure becomes too much for them to handle so thats not an option I have ended up throwing out the Bottle Tote which cost me 15 and purchasing a midsize Thermos I put the water of about the right temperature into the Thermos and take empty bottles with me I even use the Thermos at home so that I do not have to wait for the Avent Bottle Warmer to hurry up and do its thing at 3amI also have the Via Nurser Kit and addtional containers but have found that the lids sometimes do not seal properly and therefore leak Very annoying especially when you had premixed formula in the container your baby is hungry and youre an hour drive from homeI am absolutely disappointed with Avent Almost every product of theirs that I have purchased this time around has been defective in one way or another and their cutomer service level has been absolutely pathetic They have obviously never heard the customer is always right because the have continually placed the blame solely on me for the issues that I have hadAvent used to be a great company with a great product and now it seems that they are simply relying on their good reputation of the past to carry them through the future Its not good enough Their products are NOT worth the money anymore and I strongly recommend that no one buy any of their products There are tons of very good better products available on the market and I will be replacing all of my Avent equipment with another brand as soon as I can I noticed while at Target the other day that Circo are now making wide neck bottles that look exactly like the Avent ones but at almost half the price  I think Ill give them a go Maybe you should too\n",
            "I purchased this in the black color  For some reason this site is not allowing me to submit this review in the black color so its showing this as a review for the silver bag  Just as a side note the silver bag was the same price as the black and blush One day after this review was initially posted online under the silver color the price increased from twentynine and ninety nine to over seventy dollars and now includes free shipping and free returnsI really wanted to love this bag However when I first opened the box I had knew this bag would have to be returned I contacted the seller via Amazon and they were very easy to work with and provided no hassle in providing a prompt return authorization However when I went to the post office the clerk let me know that even at the cheapest shipping rate it would cost almost half the price of the bag in order for me to return it to the vendor due to the location from which it was going to be shipped So with that in mind I decided to keep the bag I will probably pass it on to someone with 1 child or a first time mother or just use it as a purseHere is what I like about the bag1 It is beautiful and fashionable The silver hardware is also nice It doesnt look like a diaper bag2 The handles seem to be well made3 It comes with stroller straps4 The changing pad is not padded For me this would not be an issue as it only means that it could be tossed into the washer to be cleaned when needed A padded changing pad would not be as easy to machine wash without getting torn upHere are the deal breakers for me on this bag1 The bottom part of the bag I received is not sturdy at all Its very thin and flimsy The faux leather is also very wrinkled as if it were glued on improperly and left to dry that way When you sit the bag down it just falls down all over the place2 A reveiwer stated the dimensions of the bag and its pockets The bag I received has different dimensions For example it was stated that the back zippered pocket was 8x10 The back zippered pocket on the bag I received is actually 3x5 In fact all of the pockets are too small and not deep enough This translates into all of my things falling out withing the bag3 I could not fit hardly anything in the pockets I tried to fit just 2 pampers cruisers size 6 diapers into the largest pocket It did not work at all I could not fit the adjustable strap inside any of the pockets Nor could I fit a bottle into the insulated pocket The insulated pocket is extremely small and narrow My hand would not even fit inside  and I have small hands4 The pocket on the changing pad is sewn on crooked and is also much to small I could not fit diapers or travel wipes or anything else in this pocket5 I am minimalist I like to keep diaper bag packing simple I could NOT fit a blanket change of clothes for baby and 2 year old juice box and small snack diapers and wipes into this bag The bag I received was not as large as others described I have 2 small ones and a 3rd baby on the way There is absolutely no way I could fit whats needed in here I tried and it didnt work6 This bag is heavy when empty When filled its even more heavy on the shoulder Im not willing to sacrifice my shoulder for style I need to be able to lift and move young children and a baby quickly without having to contend with a heavy shoulder bagThis bag is actually made under the brand name Tiddliwinks and sells for seventy nine dollars and up at Target and Babies R Us I purchased this bag from this vendor for twentynine dollars and ninetynine cents without free shipping and free returns being offered  Kidsline is not affiliated with this brand name I called the Target headquarters to get the comapany contact information to find out more and they said that kidsline is not the name of the company that makes this So I then went to the kidsline website The website does not mention any diaper bags at all only room decor and such So Im now wondering if this bag is not a knock off of the original brand This might explain why my bag seemed a little different from other reviewers Regardless the bag is cute However one can find more functional bags on clearance at Target If you want cute then buy this If you also crave funcionality then look elsewhere\n",
            "PLEASE HEED THE OTHER REVIEWERS WARNINGS ON THIS  I am not one to write a review but the Evenflo high chair is so dangerous and the company so negligent that I had to let others know  We have the Evenflo Majestic Highchair which has recently finally been recalled  We had issues with the screws popping out of the recliner section of the chair when we used it with our then 4 month old I called Evenflo last March they sent me a repair kit with longer screws still didnt work Customer service had told me then this was not a common problem and that even with a screw missing highchair was safe to use not dangerous Im so furious they lied about my sons safety Our longer screws did pop out a few times we put them back in I called back and since the highchair still held up fine and they told me it was okay to use we wrongly trusted Evenflo and continued to use the highchair my husband had checked it and felt is was okay I just called in response to last weeks recall and they said they do have a record of me calling sorry that happened and would I like a new set of screws They wont give a refund and the new screws which they will ship out in approx 2 weeks and recommend we dont use the highchair in the meantime supposedly work better than the original replacements I am returning this to the store and if they wont accept the return Ill have to eat the cost and throw out the chair  Weve had so many of our kids things recalled its infuriating that these companies only have to send screws that may or may not work and before their belated recalls our kids are at risk and to boot this time they assured me there was no danger Please do not buy Evenflo and know that you cant trust the info you receive from customer serviceIm am so thankful my son wasnt injured Weve had other issues with most of our Evenflo products not working correctly but all involving bells and whistles not structual I just cant understand how these companies put more money into their impossible to open packaging than into their product safety\n",
            "I received this pump through insurance and I figured that free is always good  I was an idiot  I started pumping when my daughter turned one month old  For the first month or so this pump worked well  I was able to get many ounces in a fairly short period of time  I was pumping about twice a day at that point morning and night to build up a stash  However shortly before my maternity leave ended this pump started making a slightly weird noise in the motor and the suction didnt seem as good  Upon my return to work last month this pump has been horrible  I pump three times a day at work and also in the morning and night for a total of 5 sessions and Im lucky if I get three ounces total at each pumping session at nearly 30 minutes a piece  Yes I spend nearly two hours every single day using this machine to get maybe 15 ounces total  At first I thought it was a supply issue and starting drowning myself in Fenugreek and Mothers Milk but then realized that this pump is the issue  Ive replaced all the tubing and valves but theres been no change  This pump sucks but unfortunately not literally  Heres a breakdown of whyPros1 Free2 Closed system means no worries about mold3 Cheaper than the comparable alternativesCons1 Motor slowly dying after 3 months of use only one month of heavy use  A common complaint from the reviews on here2 Loud Im embarrassed to pump at work3 Closed system in theory but I commonly find milk up in the diaphragm which means it can get into the tubing easy4 About twice a day I have to stop in the middle of a pumping session because the diaphragm wont fully expand  Its easily corrected by popping off the caps and repositioning them5 Milk constantly leaks from underneath flange  I have to hold a burp cloth underneath every single time I pump and even then I end up with milk on my pants at times6 Nearly impossible to use handsfree  Because the flange is attached you either have to stretch out the opening of your bra to use hands free or just dont do hands free  Even if you stretch out the opening the suction even when it was brand new and functioning at its best wasnt strong enough to keep the flanges properly in place7  Calling it a 34double34 electric is a joke  First off read 5 above  Second off the suction is so poor that trying to split the power between two makes it even more ineffective  Because of this I spend a large part of my work day pumping one side at a timeIve read reviews that state that their customer service is awesome  I plan to call them soon to address my issues but I guess because this pump is still technically 34working34 Im lazy and am trying to procrastinate on the hassle of it  Regardless if their customer service is amazing Id still rate this one star because of serious design flaws and the fact that theres no acceptable excuse why this pump is failing so miserably in such a short period time\n"
          ]
        }
      ],
      "source": [
        "#c) \n",
        "positive = np.argsort(prob_results[:, 0])\n",
        "negative = np.argsort(prob_results[:, 1])\n",
        "\n",
        "print(\"Positive reviews: \")\n",
        "print(test['review'].iloc[positive[0]])\n",
        "print(test['review'].iloc[positive[1]])\n",
        "print(test['review'].iloc[positive[2]])\n",
        "print(test['review'].iloc[positive[3]])\n",
        "print(test['review'].iloc[positive[4]])\n",
        "\n",
        "print()\n",
        "\n",
        "print(\"Negative reviews: \")\n",
        "print(test['review'].iloc[negative[0]])\n",
        "print(test['review'].iloc[negative[1]])\n",
        "print(test['review'].iloc[negative[2]])\n",
        "print(test['review'].iloc[negative[3]])\n",
        "print(test['review'].iloc[negative[4]])\n",
        "\n",
        "#hint: use the results of b)"
      ]
    },
    {
      "cell_type": "code",
      "execution_count": 43,
      "metadata": {
        "collapsed": true,
        "id": "KnbRZzudUu1e",
        "colab": {
          "base_uri": "https://localhost:8080/"
        },
        "outputId": "351fce93-edd0-4b95-8b13-1da773ede0f8"
      },
      "outputs": [
        {
          "output_type": "execute_result",
          "data": {
            "text/plain": [
              "0.931675528725063"
            ]
          },
          "metadata": {},
          "execution_count": 43
        }
      ],
      "source": [
        "#d) \n",
        "\n",
        "model.score(X_test_baby, test['rating'])"
      ]
    },
    {
      "cell_type": "markdown",
      "metadata": {
        "id": "EHOBfx-pUu1e"
      },
      "source": [
        "## Exercise 5\n",
        "In this exercise we will limit the dictionary of CountVectorizer to the set of significant words, defined below.\n",
        "\n",
        "\n",
        "a) Redo exercises 2-5 using limited dictionary.   \n",
        "b) Check the impact of all the words from the dictionary.   \n",
        "c) Compare accuracy of predictions and the time of evaluation."
      ]
    },
    {
      "cell_type": "code",
      "execution_count": 44,
      "metadata": {
        "collapsed": true,
        "id": "IL-tf4VcUu1f"
      },
      "outputs": [],
      "source": [
        "significant_words = ['love','great','easy','old','little','perfect','loves','well','able','car','broke','less','even','waste','disappointed','work','product','money','would','return']"
      ]
    },
    {
      "cell_type": "code",
      "execution_count": 45,
      "metadata": {
        "collapsed": true,
        "id": "r7WiCWsgUu1f",
        "colab": {
          "base_uri": "https://localhost:8080/"
        },
        "outputId": "9ac56aa6-c48b-4b5d-857d-495b53af0643"
      },
      "outputs": [
        {
          "output_type": "execute_result",
          "data": {
            "text/plain": [
              "LogisticRegression()"
            ]
          },
          "metadata": {},
          "execution_count": 45
        }
      ],
      "source": [
        "#a)\n",
        "vectorizer_significant_words = CountVectorizer(vocabulary=significant_words)\n",
        "\n",
        "X_train_words = vectorizer_significant_words.fit_transform(train['review'])\n",
        "X_test_words = vectorizer_significant_words.transform(test['review'])\n",
        "\n",
        "model_significant_words = LogisticRegression()\n",
        "\n",
        "model_significant_words.fit(X_train_words, train['rating'])"
      ]
    },
    {
      "cell_type": "code",
      "source": [
        "coef = np.argsort(model_significant_words.coef_[0])\n",
        "names = vectorizer_significant_words.get_feature_names()\n",
        "\n",
        "print(\"Top 10 negative words: \")\n",
        "for i in range(10):\n",
        "  print(names[coef[i]])\n",
        "print()\n",
        "\n",
        "print(\"Top 10 positive words: \")\n",
        "for i in range(1, 11, 1):\n",
        "  print(names[coef[-i]])"
      ],
      "metadata": {
        "colab": {
          "base_uri": "https://localhost:8080/"
        },
        "id": "aZYiSMUSh8x5",
        "outputId": "74bad8a1-ec85-466e-de31-ae394007052a"
      },
      "execution_count": 46,
      "outputs": [
        {
          "output_type": "stream",
          "name": "stdout",
          "text": [
            "Top 10 negative words: \n",
            "disappointed\n",
            "return\n",
            "waste\n",
            "broke\n",
            "money\n",
            "work\n",
            "even\n",
            "would\n",
            "product\n",
            "less\n",
            "\n",
            "Top 10 positive words: \n",
            "loves\n",
            "perfect\n",
            "love\n",
            "easy\n",
            "great\n",
            "little\n",
            "well\n",
            "able\n",
            "old\n",
            "car\n"
          ]
        },
        {
          "output_type": "stream",
          "name": "stderr",
          "text": [
            "/usr/local/lib/python3.8/dist-packages/sklearn/utils/deprecation.py:87: FutureWarning: Function get_feature_names is deprecated; get_feature_names is deprecated in 1.0 and will be removed in 1.2. Please use get_feature_names_out instead.\n",
            "  warnings.warn(msg, category=FutureWarning)\n"
          ]
        }
      ]
    },
    {
      "cell_type": "code",
      "source": [
        "model_significant_words.predict(X_test_words)"
      ],
      "metadata": {
        "colab": {
          "base_uri": "https://localhost:8080/"
        },
        "id": "Sb8AK4coiiIW",
        "outputId": "75279d6f-1318-4cf6-ee1c-ea004a5a2098"
      },
      "execution_count": 47,
      "outputs": [
        {
          "output_type": "execute_result",
          "data": {
            "text/plain": [
              "array([1, 1, 1, ..., 1, 1, 1])"
            ]
          },
          "metadata": {},
          "execution_count": 47
        }
      ]
    },
    {
      "cell_type": "code",
      "source": [
        "prob_results_words = model_significant_words.predict_proba(X_test_words)\n",
        "prob_results_words"
      ],
      "metadata": {
        "colab": {
          "base_uri": "https://localhost:8080/"
        },
        "id": "UDeIUmFFipkz",
        "outputId": "b55cdb3d-65bd-4c96-f956-5cfd3bebe37d"
      },
      "execution_count": 48,
      "outputs": [
        {
          "output_type": "execute_result",
          "data": {
            "text/plain": [
              "array([[0.21671122, 0.78328878],\n",
              "       [0.21671122, 0.78328878],\n",
              "       [0.21671122, 0.78328878],\n",
              "       ...,\n",
              "       [0.273957  , 0.726043  ],\n",
              "       [0.03693419, 0.96306581],\n",
              "       [0.16221522, 0.83778478]])"
            ]
          },
          "metadata": {},
          "execution_count": 48
        }
      ]
    },
    {
      "cell_type": "code",
      "source": [
        "positive_words = np.argsort(prob_results_words[:, 0])\n",
        "negative_words = np.argsort(prob_results_words[:, 1])\n",
        "print(\"Positive reviews: \")\n",
        "print(test['review'].iloc[positive_words[0]])\n",
        "print(test['review'].iloc[positive_words[1]])\n",
        "print(test['review'].iloc[positive_words[2]])\n",
        "print(test['review'].iloc[positive_words[3]])\n",
        "print(test['review'].iloc[positive_words[4]])\n",
        "\n",
        "print()\n",
        "\n",
        "print(\"Negative reviews: \")\n",
        "print(test['review'].iloc[negative_words[0]])\n",
        "print(test['review'].iloc[negative_words[1]])\n",
        "print(test['review'].iloc[negative_words[2]])\n",
        "print(test['review'].iloc[negative_words[3]])\n",
        "print(test['review'].iloc[negative_words[4]])"
      ],
      "metadata": {
        "colab": {
          "base_uri": "https://localhost:8080/"
        },
        "id": "ciln_smZiyU8",
        "outputId": "77c25694-c68b-474e-c022-10a431aa7deb"
      },
      "execution_count": 54,
      "outputs": [
        {
          "output_type": "stream",
          "name": "stdout",
          "text": [
            "Positive reviews: \n",
            "Ive posted an UPDATE at the endFirst let me state that I have been buying products from Amazon for the past 12 years  I love Amazon  I love the reviews because they have always played a part sometimes more sometimes less in the products I decide to purchase  For some reason I have never left a review I know  Until now  I feel such an urge to express how much my husband and I love this strollerMy first son will turn 7 next month  We purchased an Evenflo strollercar seat travel system for him in 2005  We hated it  We used the car seat but never EVER used the stroller  It was big bulky heavy and a pain in the rear  I think my husband hated it even more than I did  I wore my first son everywhere instead of putting him in a stroller  Fast forward to 6 years later and we have our second son in September of 2011  I researched for months  I wanted to find a stroller that had several qualities  Looks  As shallow as it may seem I wanted a stroller that wasnt ugly  I wasnt interested in any fancy or cutesy designs on the fabric  I wanted simple and sleek  I wanted something that my husband would not mind pushing around either  Weight  I wanted something that was not super heavy  QualityDurability  I was looking for something that would hold up through months and months of theme park visits and ultimately through daily runs  Ease  Meaning that I wanted it to fold easily and be a stroller that I could easily put in and out of my car without looking like my back was going to give out and I would collapse   Price  I wanted something under 100  I find that the more expensive a stroller is the sleeker it looks a shame that more less expensive strollers arent more attractive  I wanted the look and the quality for under 100  Able to use with a Graco car seat  I knew I did not really want to purchase another combo travel system of any kind really  Canopy  Needed a bigger one to protect from the FL sunSo with these key things in mind I researched for hours upon hours for the last couple months of my pregnancy  I still held off  I wanted to make the right purchase and not settle for another crap stroller that would be a huge disappointment  When my son was a month old I pulled the trigger and purchased the Joovy Scooter Stroller in Greenie  BEST DECISION EVER  We live in Florida  Below the freeze line in FL  an hour south of Tampa on the water  Here is my take on the Pros and Cons of the Joovy  I hope it might help out someone else who is on the fencePROs1  Cost  9999  True it was just one penny shy of my limit I set  But it was under  I had a giftcard from a family member so the stroller really only cost me 4999  A steal2  Assembly  This was almost totally assembled when I received it  It has been about 8 months since I purchased this so my memory may fail me on the exact details of the assemblybut I seem to remember only installing the brake bar and the wheels others may recall more but the fact is that it was super easy overall and I did not need to wait for the assistance of my husband  I noticed right away that I was lacking the right size hub cap for one of the back wheels  This is only a cosmetic feature  It does not in any way mess with how the stroller would function but still I felt that I should call the Joovy customer service to inquire  I dont remember waiting at all on hold  The lady I spoke to was super friendly and practically no questions asked she Fed Exed me a couple of hub caps for free  I got them in a couple of days3  Ease  It does take both hands to fold the stroller up but it is super easy after getting the hang of it  It only took me a couple of tries before I became a pro  No struggling in parking lots looking like the stressed out parent that wants to pull an Office Space on the stroller with a bat  There was an Up All Night episode that dealt with beating a stroller to pieces in a parking lot  I think all of us as parents have been there at one point or another with some piece of baby equipment  It unfolds so easily its ridiculous  I love it  You just pull the handles up and thats that4  Maneuverability  Some people had mentioned that they wish the wheels werent plastic  It is true that they are indeed plastic  But I have never had a problem with them  My stroller feels like its gliding on ice for the most part  Only a couple of times have the wheels gotten stucktangledwhatever  I would not even consider this an issue but felt it was worth a mention at least Seriously in 8 months it may have happened twice  Thats it And this stroller has had a LOT of mileage5  The handles  There seems to be a discussion about the handles being rough  My husband nor I have EVER had an issue with this  The handles are great  We live 1 hour and 15 minutes away from Disney World and had annual passes  We went at least two weekends a month spending 12 hours a day at the parks  We just purchased annual passes to Universal recently and spend just as much time there  We have never received a blister from the handles and never felt that they were rough  They have a nice secure grip making it easy to maneuver through crowds and onehanded love the design of the handles  I am not exaggerating when I say we spend 12 hour days at the parks  The stroller makes it such a breeze  I also wear my baby some in the Ergo Performance in Spring Green also purchased off Amazon the green color is a pretty close match to this stroller for anyone wondering but he really loves this stroller  I also run at the park 5 or 6 times a week with this stroller  No it is not listed as a jogging stroller but it works perfectly for me  I run anywhere from 14 miles at a time each day and have never had an issue  I run mostly with only one hand on the handles and it turns beautifully as I run6  Durability  What can I say  I think Ive already said it all  This stroller has held up wonderfully throughout all of our theme park adventures and through each of my morning runs at the park  I have no complaints7  Looks  I have to say this stroller is beautiful  I adore it  It is sleek modern slim but durable  The Greenie color is GORGEOUS its my favorite color And I can find it easily at the theme parks8  Basket  There is PLENTY of storage underneath in the oversized basket  We can fit a big diaper bag blankets toys a purse and more9  Reclining  The seat reclines very easily  If you recline it as far back as it will go it makes changing diapers easy  When my son is awake and wants to look around I put him in the high back seating position  If he wants to sleep I just recline  Not much to it  Pretty simple and easy10 Car Seat  I had no problems at all attaching our Graco car seat to this stroller when my son was younger no car seat adapter needed  We dont need to do this anymore but it worked great when we did11 Weight  It is still a little heavy but honestly I have no problem lifting it in and out of my Element or my husbands Accord  It folds up nicely and lies pretty flat  Im 55 and 115 lbs  I have no problem lifting this  Its hard to explain without you seeing it in person but the stroller is pretty slim  It is not bulky like most12  Foot brakes  I have never had a problem with my feet hitting the brakes even on all my runs  Neither has my husband he is 6 tall  The brake works great as it should13  Foot Rest  This is a cool feature for the little one14  The CANOPY  The canopy on this is AMAZING  It is super large  I love it  Like Ive already mentioned we are in the FL heat all year long  This canopy is awesome at keeping my little guy protected from too much sun  I also like the clear window I can look through at him which I like to do when I am running to see if he fell asleep or not 15 Extra pockets  There are side pockets for your little one to store extra toys or as I do I put his bottles there and take them out as he needs them  There is also a large zippered pocket on the back of the stroller16  Cup Holder  I rarely use the cup holder as a cup holder  I usually use it to hold my phone as I run but it does have a cup holder17  The fabric  Love it  It has not faded even in the FL sun  It is comfortable for my son and easy for me to wipe up or to shake the sand off as we have lots of beach visits  While I wouldnt consider this the best stroller to push through sand we have done it  We live where the beaches are super soft sand so you have to pop a wheelie with the front wheels being totally air borne to push it through but we have done it several times  Also the rain seems to roll right off the fabric mostly  The fabric comes off for washing too18 Extras  My son LOVES propping his foot up on the bar as we stroll while Im walking or running with him  Also we love the super padded cushions on the buckles for his chest  And this buckles in such a way that would be harder for a toddler to figure out I would think but super easy for parentsCONsI dont have any  The only con is not buying this You cant beat the quality for the money hereThis is my favorite stroller I have ever used  My husband agrees  It is so easy to push along on flat or bumpy surfaces  I recommend this to all of my friends that are having babies  This was my very best purchase this time around  We have been so happy with it and our 9 month old son also seems to enjoy itUPDATE 91412  Im now successfully running over 6 miles at a time with my baby almost 1 year old boy in this stroller I run a minimum of 3 milesday 5 days a week but I have one longer run each week also I love it  The wheels have had a LOT of mileage on them and they have held up quite well so far at some point I might have to replace them as I am constantly upping my mileage  So far in the 14 days in September I have run over 42 miles and walked over 25 miles while pushing this Joovy  I dont understand the rough handles comments at all  Ive never ever had a blister or any complaints about the handles  They work out so well for me when I run because they give me great control mostly I run with only one hand on the handles  Also I get so many compliments on the looks of this stroller\n",
            "I was very excited when I heard Chicco was finally coming out with a double stroller I was initially against any double stroller I just didnt want to mess with it But when our daughter was 25 years and our son was four months we were taking a month long trip abroad and I knew we wouldnt be able to corral both kids without one The Cortina Together worked wonderfully for what we needed We already had a Chicco car seat and Trevi so we knew we liked Chicco And I wanted both kids to be able to sit comfortably I knew a sit and stand would be lighter but didnt want my twoyearold to have to stand or sit on an uncomfortable tiny seat all the time After hauling this thing all over Europe here is why I love this strollerYou can easily snap the Chicco car seat into it I love that you can place it in the front seat or back seat When we want more control of our toddler we place her in the back and baby in the front But when we are just enjoying a walk she loves sitting in the front to see better and hop in and out on her own It is also a great feature that the rear seat fully reclines This is nice for a napping toddler and makes a great bassinet for a sleeping babyThe basket underneath is very large and very accessible Adding the zippered front is a huge help to be able to access things even when the back seat is fully reclined I was able to easily carry diaper bags luggage groceries etc in that thing I also like that the basket stretches in front of the rear seat If our daughter dropped anything it caught it which is nice when you are running to catch a train and not keeping track of everythingThe canopies work well They arent large but the fact that they adjust so easily means you can keep your children covered from rain or keep the sun out of their eyes no matter what angle I also love having the two cup holders for mom and dad as well as the two cup holders on the front seat A con however is that there are no cup holders for the back seat And the two cup holders on the front can be switched which is nice But if you have them turned out you cant fold the canopy up when the stroller is folded and if you have them turned in you cant fold the front seat down to accommodate the car seat But this is super easy to adjust The seats move very easily as well  one hand adjustment The brakes and wheel locks are great and easy tooEven with its large size the stroller turns on a dime The handle bar adjusts easily for pushers of different heights Sometimes we found the stroller can be a little tricky to fold up  the lock only requires one hand but you have to maneuver the stroller just right to get it to collapse on itself When folded up though its not too huge  it easily fits in our Honda CVR no problem Its great for on the go easy to set up  no adjustments neededThe stroller proved to be very durable  considering we hauled it on and off planes and trains as well as up and down cobblestone streets and offroad Like others have said it is heavy but it is a double stroller thats what you get It is lighter than many options though My close friend has a Graco double and she is super jealous of our Chicco One other negative is theres no handle or really great place to grab the stroller to carry it when its folded up The feature that allows it to still roll when folded is nice but obviously doesnt help when you are going up stairsI truly love this stroller and I would highly recommend it to anyone Coming from one mommy who didnt especially want a double is only five feet tall and not very strong but realized she needed it I would never use another double stroller This is the way to go\n",
            "These plates are amazing  First they are made from Potatoes  Almost all platescupsutensils found on store shelves today are made of plastic  Dont get me wrong I do appreciate plastic and I use it on a daily basis  However it is amazing that there is a way to create childrens products from a biodegradable safe efficient and all natural source  It makes me feel better knowing my kids are eating off a plate that is not leaching any chemicals into their food  I also love that this product will not just sit in the landfill for hundreds of years but will biodegrade faster than other plastic plates So these products by Spuds are not only good for my kidsbut good for the environmentI LOVE thatNow onto the plate itself  I love the design  It is perfect for my one year old who is starting to eat a wider variety of solid foods  Each section is just the right size to put a little bit of food into  A diced strawberry in one section some applesauce in another a few puffs in another a chopped up nugget in another and some yogurt drops in the last section  However each section is very small  While this plate is perfect for an infant or younger toddler it is not the ideal plate for an older toddler or child  It simply does not hold a lot of food I often have to refill some of the sections because even he can eat more than this plate will hold  However I think the size is perfect for younger kids who just dont need a huge plate or perhaps for an older child who just wants a snack I love that there are five sections to put different food in  My one year old loves choosing which food to eat firstAnother nice feature of this plate is that the sides rest flat against the table so it is not very easy for a child to pick it up and throw it  However it is not impossible and my son is very capable of finding a way to lift it up  However it is a nice design to help prevent little fingers from grabbing the plate and throwing it or dumping it on their headSomething that does not bother me but might bother some people is that the plate stains if certain foods are left on the plate for a while  Due to the nature of the product I believe this plate is made from a slightly porous and softer material that traditional plastic Because of this some food might leave small stains on the plate  I am guessing that if the plate is rinsed after each meal this will not be an issue  I left some pasta on the plate overnight and even after washing it in the dishwasher some red stains remained  They do seem to be fading overtime after each time it is washed in the dish washerThe plate seems to be very durable and looks as good as new even after almost a month of use  I wash mine in the dishwasher after each use and all three of my plates are holding up well  I wasnt sure how it would do since it is made out of a potato product but it looks great has little to no warping or discoloration and it still an awesome productOverall I love these plates and the whole Spud product line  I love the material and I feel safe using it  They are absolutely perfect for my one year old and I use them almost everyday\n",
            "We bought this stroller after selling our beloved BOB rev on craigslist We used the BOB for 9 months for my son but it just wasnt practical I dont jogrun it didnt have a big basket and was very bulky to take into stores quickly However I did love how it unfolded easily but it was heavy to fold up and lift into my small trunk myself Overall I didnt realize what Id need in a stroller until AFTER I had my son Live  learn We did love how easily the BOB would go over pretty much anything Nevertheless we sold it and after extensive research on strollers we decided it was between the uppababy brand because of the large baskets OR the city mini GT because of its easy fold up design After looking over both strollers I decided on the uppababy cruz because of a few main factors It SITS UP I cant tell you how much my son hates being reclined when he is just riding in the stroller and not napping The BOB and the City Mini had a slight recline and he always tried sitting more upright The uppababy sits up like your sitting in a chair He loves it It also reclines nearly flat The foot rest can be positioned upwards so that its as if he is sitting on the floor because he is so upright and his feet are out in front of him Also the LARGE basket was a HUGE plus I cant tell you how great evvvvverything fits in there Its perfect and soooo easily accessable The city mini gt did NOT have a big enough basket for me and there for was not the right choice for me despite the very easy fold up The true test for us was this past weekend when we took it to Maine on a camping trip YES it is no BOB However I thought it was just fine over the rough bumps of a campground Bumpy ride Yes But nothing my 10 month old couldnt handle and honestly It wasnt that bad We took it to old orchard beach and as I suspected it didnt roll over the sand like my good old BOB did But it rolls really nicely on pavement and I just carried my son over to the beach and I figure he will be 1 soon enough and walking so I wont need the stroller on the beach anyways I also love the reversable seat that comes in handy because my son is going through some sort of attachment to mommy thing so he likes being able to face me from time to time I also love that the Cruz is a less expencive option to the Vista The vista is much much heavier and a little bigger And since we didnt need the extras that the Vista comes with this was the better option for us Also I called Uppababy and asked about a belly bar and toddler board for the cruz and they told me that BOTH would be available The belly bar will be out this summer and the board is in producton huge plus So for us this stroller was a hit but as anything goes you MUST research what YOU need in a stroller and figure out whats important to you Some people dont care about a big basket and in that case id for sure go with the City mini gtUPDATE1713We are in LOVE with this stroller still It fits great in the trunk of my saturn ion and how I fold it is I take the seat off first takes 1 second and then fold the frame I found it fits and folds better that way plus some times my son likes to sit forward and sometimes backwards still so I just set up the frame and then throw the seat on top depending on which way i think he wants to sit The basket is just my fave feature I cant tell you how happy I have been with the uppababby My son is 16 months old and loves sitting in his uppababy well worth it still\n",
            "My daughter 8 months old loves this toy and has for a few months I love it too  Its not only a stacking toy but several toys in one each providing development benefits The removable elephant head serves as a funnel into which you drop balls  The head itself is fun since the ears crinkle and the hair is little knots that provide tactile sensation  My daughter loves to grab it and wave it around Each stackable ring is soft and easy for my daughter to grab and wave around which she loves to do  Two of the rings the elephant feet have Velcro joining the feet that my daughter can separate and rejoin The 4 different colored balls rattle and each has a different patter pressed on it  My daughter loves to shake the balls which fit perfectly into her hands  but not her mouth and she also loves to feel the patterns on the balls When you drop the balls into the funnelchute it plays a song which you can disable  The balls then roll out the door which can be closed  Great for teaching causeandeffect as well as objectpermanence  My daughter leaned that there a balls behind the door and loves to open it to get them outThis is a wellthoughtout toy that fosters her development and my daughter loves it\n",
            "\n",
            "Negative reviews: \n",
            "Looks really cute however the cloth smells funny and gave my baby some rash after 15 mins wearingRequested a return need to pay 25 restocking fee plus shipping25 order maybe 5 back eventuallyAlso the return must be brand new condition Really UnbelievableDo yourself a favor and See the return policy by yourself before making an orderHelloBelow is return instructions this item must not be worn or used or the return will not be refundedThank you for ordering from us Here is your RMA as well as return instructions All returns must be in brand new original condition Please read our return policy Return policy link is provided for you in this emailAll refunds issued are determined by the outcome of inspections Any return of costumes used worn signs of pet hair human hair or washed will void all refund All boxes for shoes NEED to be unmarked and in original condition ALL returns NEED to be in original packaging to qualify for an authorized returnPlease note If you are returning a costume and need a different size we suggest that you place a new order for the item you need This will insure that you get the item quicker If you order from us simply email us your new order and we will waive the restocking fee on your returnsReturn Instructions ALL RETURNS NEED TO BE IN ORIGINAL PACKAGINGItems MUST BE POSTMARKED WITHIN 3 DAYS of  RECEIVING RMA TodaySimply repackage itemon the outside of the packaging please write RMAWe do not cover shipping so please feel free to use any shippingmethod you likeItem is also subject to a 25 restocking fee and all incurred shipping costs associated  with this returnShip to Brands on Sale\n",
            "This is a long review but if you read the whole thing it may save you some money and frustration If you just want to read the bit about the Bottles jump down to the 6th Paragraph and read from thereI used Avent products with my first child 5 years ago and was absolutely thrilled Back then I was a solomother on welfare so the cost was a real struggle for me but I was so thrilled with the product that I found the money to buy the things I needed for my childFive years on and oh how things have changed This time around I am married and have the funds to be able to buy whichever brand I want without money being a consideration So I eagerly stocked up on all things Avent I bought the 4 oz bottles 9 oz bottles disposable bottle kit Isis Electric Breast Pump pacifiers Bottle  Food Warmer Bottle Tote Formula Dispeser Microwave Steam Steriliser  the whole shebangThe first thing to go wrong was the Isis Breast Pump US150 from BabiesRUs It would work fine for anywhere between 2 and 10 minutes and then the suction would slack off and the rhythm would go out of whack stopping the flow of milk from my breast I would then have to turn off the machine and pump manually instead or be left only partially expressed I was reliant on the pump to take off my milk as my baby would not latch and I really wanted to keep giving her breast milk When the machine broke down I contacted Avent and asked for a refund as I was going to have to replace the machine Avent told me that it was a nonrefundable item but if I waited a week they would send out a label for me to ship the pump back to them and then IF THEY FOUND A FAULT they would then repair it and return it to me They said it would take 24 weeks And what was I to do without a breast pump for a month I asked The lady on the phone suggested that I purchase their manual pump to use in the meantime and boasted that it would only cost me about US50 Needlesstosay I lost a lot of money on this and was absolutely furious I threw the worthless pump in the trash and ended up 100 formulafeeding my babyThen there were issues with some of the nipples tearing and they were less than a month old I figured this was just my misfortune so rather than make a fuss about it I simply replaced the nipples at my own expenseNext came the distorted bottles I noticed one day that the plastic of one of the 4 oz bottles was warped I thought it a little odd but again thought that I had probably just caught a wonky batch and didnt think too much about it Then another bottle warped and another and another and another  fairly soon I had 5 warped bottles some 4 oz some 9 oz Enough was enough I called Avent again and complained only to have the woman on the phone tell me that I mustnt have read the instrustions on the MICROWAVE STEAM STERILISER properly The woman asked me to confirm the wattage of my microwave the amount of time I was putting the bottles in for and how much water I was using 900W 5 minutes 200 mls After telling her she confirmed that yes that was all correct but she still said that I must have been doing something wrong during the sterilising processThe lady sent me out a label to send the bottles back to them for testing She said that once the bottles had been tested then they would get back to me Well while waiting for the label to arrive I ensured that I absolutely was following the instructions correctly when I used the Steriliser but I still managed to have two more bottles warp on me giving me a total of 7 warped bottles to returnI finally got the label and sent the bottles back About a week later Avent called and said that the tests showed I had overloaded the Steriliser and that had caused the bottles to warp She said that as a oneoff courtesy they would replace the five 9oz bottles I pointed out to her that I had stacked the Steriliser as told to do so in the illustrations of the instruction booklet and when I asked about the two 4 oz bottles I had also returned she denied that they had received them even though I put them all in the package myself and refused to discuss the matter any further So I have lost 2 bottles and have a steriliser that apparently likes to melt bottles regardless of how cautious I am about follwing the directionsThe other things I have had issues with are the pacifiers and the Bottle Tote The pacifiers had a hard edge on the silicone which was very uncomfortable for my newborn I ended up replacing these with a different brand as Avent wanted me to return the pacifiers to them at my own expense before they would consider replacing them The Bottle Tote packaging states that it will keep bottles warm or cold for up to 4 hours This is more like up to 2 hours but even that is dubious In order to get the bottles hot enough to stay warm for 4 hours it would have to be boiling water but if you put boiling water into the bottles the pressure becomes too much for them to handle so thats not an option I have ended up throwing out the Bottle Tote which cost me 15 and purchasing a midsize Thermos I put the water of about the right temperature into the Thermos and take empty bottles with me I even use the Thermos at home so that I do not have to wait for the Avent Bottle Warmer to hurry up and do its thing at 3amI also have the Via Nurser Kit and addtional containers but have found that the lids sometimes do not seal properly and therefore leak Very annoying especially when you had premixed formula in the container your baby is hungry and youre an hour drive from homeI am absolutely disappointed with Avent Almost every product of theirs that I have purchased this time around has been defective in one way or another and their cutomer service level has been absolutely pathetic They have obviously never heard the customer is always right because the have continually placed the blame solely on me for the issues that I have hadAvent used to be a great company with a great product and now it seems that they are simply relying on their good reputation of the past to carry them through the future Its not good enough Their products are NOT worth the money anymore and I strongly recommend that no one buy any of their products There are tons of very good better products available on the market and I will be replacing all of my Avent equipment with another brand as soon as I can I noticed while at Target the other day that Circo are now making wide neck bottles that look exactly like the Avent ones but at almost half the price  I think Ill give them a go Maybe you should too\n",
            "I was excited to give these instruments to my 4 year old for her birthday because they are cute painted instruments that look even better in person than online I assumed that since the set was wooden and 1015 more expensive than other similar sets it would be durable My daughter opened the box and the drum broke within two minutes in the middle of her family birthday party She was heartbroken  she was just patting it with her hand when it broke but she thought she did something wrong I dont even know the return policy  I am so busy that is the whole reason I did birthday shopping in the middle of the night online  dealing with boxing it up and taking it to the post office is last on my priority list so it is sitting in my entryway completely useless I was disappointed that such a cute set that my daughter was so excited to receive ended up being such a waste\n",
            "I was thrilled to have found a glass sippy cup havent found others out there yet  This is so awful TOTAL WASTE OF MONEY  It leaks all over down the groves where you screw on the top out the way to big sipping openingjust awful  Dont waste your money on this over priced lame invention VERY DISAPPOINTED  Contacted the company would have had to pay 7 for return shipping for a refund\n",
            "I hate this product because this Medela Harmony Manual Breast Pump doesnt work at allI am breast feeding my baby from last three months and thought of buying a pump which i can use occasionally when i am out for workI have tried to use it many times since then and there is not really any suction and certainly not enough milk to save as it takes forever to get a few dropsFrankly speaking I couldnt get even 10 drops of milk using this pump I cant return it so the only way is to throw in trash and post pictures here so every one is aware of it that i really mean itI do not recommend this product even for stay at home momsBad part about breast feeding pump is once you opened it we cannot return it even if it is bad manufacturing productPlease dont waste your money on this crappy product\n"
          ]
        }
      ]
    },
    {
      "cell_type": "code",
      "source": [
        "model_significant_words.score(X_test_words, test['rating'])"
      ],
      "metadata": {
        "colab": {
          "base_uri": "https://localhost:8080/"
        },
        "id": "WyU9SpVROyt_",
        "outputId": "d017ed80-c566-48b6-e00d-5c38ebbb5f89"
      },
      "execution_count": 50,
      "outputs": [
        {
          "output_type": "execute_result",
          "data": {
            "text/plain": [
              "0.8695678247311398"
            ]
          },
          "metadata": {},
          "execution_count": 50
        }
      ]
    },
    {
      "cell_type": "code",
      "execution_count": 51,
      "metadata": {
        "id": "8ZET4SY1Uu1f",
        "colab": {
          "base_uri": "https://localhost:8080/"
        },
        "outputId": "d5a4b2ad-62e9-4102-dc1e-7ec84af50232"
      },
      "outputs": [
        {
          "output_type": "stream",
          "name": "stdout",
          "text": [
            "name: love -->  coef: 1.3628888506244097\n",
            "name: great -->  coef: 0.9542428980397074\n",
            "name: easy -->  coef: 1.2238972673406527\n",
            "name: old -->  coef: 0.08394902685079346\n",
            "name: little -->  coef: 0.5109027089779152\n",
            "name: perfect -->  coef: 1.4385680797211253\n",
            "name: loves -->  coef: 1.7295365079090033\n",
            "name: well -->  coef: 0.4972550960055549\n",
            "name: able -->  coef: 0.2178320952936153\n",
            "name: car -->  coef: 0.06627052597219642\n",
            "name: broke -->  coef: -1.6842523140873447\n",
            "name: less -->  coef: -0.14035359430782704\n",
            "name: even -->  coef: -0.5116834145822656\n",
            "name: waste -->  coef: -1.976825848814431\n",
            "name: disappointed -->  coef: -2.328115510397404\n",
            "name: work -->  coef: -0.6222560379923029\n",
            "name: product -->  coef: -0.3102976768537777\n",
            "name: money -->  coef: -0.8936581775660614\n",
            "name: would -->  coef: -0.35442577249322904\n",
            "name: return -->  coef: -2.099789153855098\n"
          ]
        },
        {
          "output_type": "stream",
          "name": "stderr",
          "text": [
            "/usr/local/lib/python3.8/dist-packages/sklearn/utils/deprecation.py:87: FutureWarning: Function get_feature_names is deprecated; get_feature_names is deprecated in 1.0 and will be removed in 1.2. Please use get_feature_names_out instead.\n",
            "  warnings.warn(msg, category=FutureWarning)\n"
          ]
        }
      ],
      "source": [
        "#b)\n",
        "\n",
        "coef_list = model_significant_words.coef_[0]\n",
        "names_list = vectorizer_significant_words.get_feature_names()\n",
        "\n",
        "for i in range(len(names)):\n",
        "  print('name: ' + str(names_list[i]) + ' -->  coef: ' + str(coef_list[i]))\n"
      ]
    },
    {
      "cell_type": "code",
      "execution_count": 53,
      "metadata": {
        "id": "IhnEw6UQUu1f",
        "colab": {
          "base_uri": "https://localhost:8080/"
        },
        "outputId": "0526194e-0c7b-4e36-8118-fdb92f1f32c9"
      },
      "outputs": [
        {
          "output_type": "stream",
          "name": "stdout",
          "text": [
            "0.967476912005757\n",
            "0.8423819613800824\n",
            "\n",
            "Time significant: 0.20718979835510254\n",
            "Time ordinary: 9.134341716766357\n"
          ]
        },
        {
          "output_type": "stream",
          "name": "stderr",
          "text": [
            "/usr/local/lib/python3.8/dist-packages/sklearn/linear_model/_logistic.py:814: ConvergenceWarning: lbfgs failed to converge (status=1):\n",
            "STOP: TOTAL NO. of ITERATIONS REACHED LIMIT.\n",
            "\n",
            "Increase the number of iterations (max_iter) or scale the data as shown in:\n",
            "    https://scikit-learn.org/stable/modules/preprocessing.html\n",
            "Please also refer to the documentation for alternative solver options:\n",
            "    https://scikit-learn.org/stable/modules/linear_model.html#logistic-regression\n",
            "  n_iter_i = _check_optimize_result(\n"
          ]
        }
      ],
      "source": [
        "#c)\n",
        "print(model.score(X_test_baby, test['rating']))\n",
        "print(model_significant_words.score(X_test_words, test['rating']))\n",
        "\n",
        "print()\n",
        "\n",
        "\n",
        "import time\n",
        "\n",
        "start = time.time()\n",
        "model_significant_words.fit(X_test_words, test['rating'])\n",
        "end = time.time()\n",
        "print(\"Time significant: \" + str(end - start))\n",
        "\n",
        "start = time.time()\n",
        "model.fit(X_test_baby, test['rating'])\n",
        "end = time.time()\n",
        "print(\"Time ordinary: \" + str(end - start))\n",
        "\n",
        "\n",
        "#hint: %time, %timeit"
      ]
    },
    {
      "cell_type": "markdown",
      "source": [
        "As we can see accuracy of predictions is worse for significant words list, but time of evaluation is much smaller."
      ],
      "metadata": {
        "id": "29fJ4rGXKM-C"
      }
    }
  ],
  "metadata": {
    "anaconda-cloud": {},
    "kernelspec": {
      "display_name": "Python [conda env:anaconda2]",
      "language": "python",
      "name": "conda-env-anaconda2-py"
    },
    "language_info": {
      "codemirror_mode": {
        "name": "ipython",
        "version": 2
      },
      "file_extension": ".py",
      "mimetype": "text/x-python",
      "name": "python",
      "nbconvert_exporter": "python",
      "pygments_lexer": "ipython2",
      "version": "2.7.12"
    },
    "colab": {
      "provenance": []
    }
  },
  "nbformat": 4,
  "nbformat_minor": 0
}